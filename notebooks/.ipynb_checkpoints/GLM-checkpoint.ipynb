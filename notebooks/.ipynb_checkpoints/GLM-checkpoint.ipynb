{
 "cells": [
  {
   "cell_type": "code",
   "execution_count": 1,
   "metadata": {},
   "outputs": [],
   "source": [
    "import pandas as pd\n",
    "import numpy as np\n",
    "import matplotlib.pyplot as plt\n",
    "import seaborn as sns\n",
    "%matplotlib inline\n",
    "from sklearn.model_selection import train_test_split\n",
    "from sklearn.preprocessing import LabelEncoder\n",
    "from sklearn.linear_model import Lasso\n",
    "from sklearn.feature_selection import SelectFromModel\n",
    "from sklearn.preprocessing import StandardScaler\n",
    "from sklearn.metrics import mean_absolute_error\n",
    "import statsmodels.api as sm\n",
    "from scipy import stats\n",
    "plt.rc(\"figure\", figsize=(16,8))\n",
    "plt.rc(\"font\", size=14)"
   ]
  },
  {
   "cell_type": "code",
   "execution_count": 2,
   "metadata": {},
   "outputs": [],
   "source": [
    "df=pd.read_csv('train.csv') # create train and test set with answers"
   ]
  },
  {
   "cell_type": "code",
   "execution_count": 3,
   "metadata": {},
   "outputs": [],
   "source": [
    "# feature engineering\n",
    "\n",
    "def predictors_ordinal_encoding(df):\n",
    "\n",
    "    ''' one hot encode categorical features '''\n",
    "\n",
    "    # find all relevant columns\n",
    "    all_columns = list(df.columns)\n",
    "    numeric_types = ['int16', 'int32', 'int64', 'float16', 'float32', 'float64', 'uint8']\n",
    "    numeric_columns = df.select_dtypes(include=numeric_types).columns.to_list()\n",
    "    categoric_columns = list(set(all_columns) - set(numeric_columns))\n",
    "    \n",
    "    # Encoding make column using LabelEncoder\n",
    "    labelencoder = LabelEncoder()\n",
    "\n",
    "    for i in categoric_columns:\n",
    "        df[i + '_ord'] = labelencoder.fit_transform(df[i])\n",
    "\n",
    "    # remove categoric cols\n",
    "    numeric_columns = df.select_dtypes(include=numeric_types).columns.to_list()\n",
    "    df = df[numeric_columns]\n",
    "\n",
    "    return df\n",
    "\n",
    "df = predictors_ordinal_encoding(df)"
   ]
  },
  {
   "cell_type": "code",
   "execution_count": 4,
   "metadata": {},
   "outputs": [
    {
     "name": "stdout",
     "output_type": "stream",
     "text": [
      "Training dataset rows:\t 131823\n",
      "Validation dataset rows:\t 56495\n"
     ]
    }
   ],
   "source": [
    "def training_validation_subset(df):\n",
    "    ''' function to create training and validation subsets\n",
    "        chosen this methodology as a method to replicate in the future '''\n",
    "\n",
    "    training_df = df.sample(frac=0.7)\n",
    "    print('Training dataset rows:\\t', training_df.shape[0])\n",
    "\n",
    "    validation_df = pd.concat([df, training_df]).drop_duplicates(keep=False)\n",
    "    print('Validation dataset rows:\\t', validation_df.shape[0])\n",
    "\n",
    "    return training_df, validation_df\n",
    "\n",
    "training_df, validation_df=training_validation_subset(df)"
   ]
  },
  {
   "cell_type": "code",
   "execution_count": 5,
   "metadata": {},
   "outputs": [],
   "source": [
    "X=training_df.drop(['id', 'loss'], axis=1)\n",
    "y=training_df['loss']\n",
    "\n",
    "def feature_selection(training_df, X, y, n_cols):\n",
    "\n",
    "    scaler = StandardScaler()\n",
    "    scaler.fit(X.fillna(0))\n",
    "\n",
    "    sel_ = SelectFromModel(Lasso()) #C=1, penalty='l1', solver='liblinear'\n",
    "    sel_.fit(scaler.transform(X.fillna(0)), y)\n",
    "\n",
    "    coef = pd.Series(abs(sel_.estimator_.coef_), index = X.columns)\n",
    "    imp_coef = coef.sort_values(ascending=False)\n",
    "    cols=list(imp_coef[:n_cols].index)\n",
    "    removed_feats = list(X.columns[(sel_.estimator_.coef_ == 0).ravel().tolist()])\n",
    "    print(removed_feats)\n",
    "    return removed_feats"
   ]
  },
  {
   "cell_type": "code",
   "execution_count": 6,
   "metadata": {},
   "outputs": [
    {
     "name": "stdout",
     "output_type": "stream",
     "text": [
      "['cont6', 'cont13', 'cat89_ord', 'cat9_ord', 'cat90_ord', 'cat40_ord', 'cat111_ord', 'cat14_ord']\n"
     ]
    }
   ],
   "source": [
    "cols=feature_selection(training_df, X, y, 5) #['cat80_ord', 'cat79_ord', 'cat57_ord', 'cont7', 'cont2']"
   ]
  },
  {
   "cell_type": "code",
   "execution_count": null,
   "metadata": {},
   "outputs": [
    {
     "name": "stdout",
     "output_type": "stream",
     "text": [
      "['cont1'] 2698151209.084389\n",
      "['cont1', 'cont2'] 950909.4688806424\n",
      "['cont1', 'cont2', 'cont3'] 50208.65570966887\n",
      "['cont1', 'cont2', 'cont3', 'cont4'] 34244.71840284773\n",
      "['cont1', 'cont2', 'cont3', 'cont4', 'cont5'] 24643.12427185591\n",
      "['cont1', 'cont2', 'cont3', 'cont4', 'cont5', 'cont6'] 20049.637220362576\n",
      "['cont1', 'cont2', 'cont3', 'cont4', 'cont5', 'cont6', 'cont7'] 16841.874402871963\n",
      "['cont1', 'cont2', 'cont3', 'cont4', 'cont5', 'cont6', 'cont7', 'cont8'] 16262.327245686967\n",
      "['cont1', 'cont2', 'cont3', 'cont4', 'cont5', 'cont6', 'cont7', 'cont8', 'cont9'] 15232.809028240821\n",
      "['cont1', 'cont2', 'cont3', 'cont4', 'cont5', 'cont6', 'cont7', 'cont8', 'cont9', 'cont10'] 14986.103721426014\n"
     ]
    },
    {
     "name": "stderr",
     "output_type": "stream",
     "text": [
      "/Library/Frameworks/Python.framework/Versions/3.7/lib/python3.7/site-packages/statsmodels/genmod/families/links.py:521: RuntimeWarning: overflow encountered in exp\n",
      "  return np.exp(z)\n",
      "/Library/Frameworks/Python.framework/Versions/3.7/lib/python3.7/site-packages/statsmodels/genmod/families/family.py:697: RuntimeWarning: divide by zero encountered in true_divide\n",
      "  endog_mu = self._clean(endog / mu)\n",
      "/Library/Frameworks/Python.framework/Versions/3.7/lib/python3.7/site-packages/statsmodels/genmod/families/family.py:698: RuntimeWarning: divide by zero encountered in true_divide\n",
      "  resid_dev = -np.log(endog_mu) + (endog - mu) / mu\n",
      "/Library/Frameworks/Python.framework/Versions/3.7/lib/python3.7/site-packages/statsmodels/genmod/families/family.py:698: RuntimeWarning: invalid value encountered in true_divide\n",
      "  resid_dev = -np.log(endog_mu) + (endog - mu) / mu\n",
      "/Library/Frameworks/Python.framework/Versions/3.7/lib/python3.7/site-packages/statsmodels/genmod/families/family.py:698: RuntimeWarning: invalid value encountered in add\n",
      "  resid_dev = -np.log(endog_mu) + (endog - mu) / mu\n",
      "/Library/Frameworks/Python.framework/Versions/3.7/lib/python3.7/site-packages/statsmodels/genmod/generalized_linear_model.py:774: RuntimeWarning: divide by zero encountered in true_divide\n",
      "  return np.sum(resid / self.family.variance(mu)) / self.df_resid\n",
      "/Library/Frameworks/Python.framework/Versions/3.7/lib/python3.7/site-packages/statsmodels/genmod/generalized_linear_model.py:774: RuntimeWarning: invalid value encountered in true_divide\n",
      "  return np.sum(resid / self.family.variance(mu)) / self.df_resid\n",
      "/Library/Frameworks/Python.framework/Versions/3.7/lib/python3.7/site-packages/statsmodels/genmod/families/family.py:134: RuntimeWarning: invalid value encountered in multiply\n",
      "  return 1. / (self.link.deriv(mu)**2 * self.variance(mu))\n",
      "/Library/Frameworks/Python.framework/Versions/3.7/lib/python3.7/site-packages/statsmodels/genmod/families/family.py:134: RuntimeWarning: divide by zero encountered in true_divide\n",
      "  return 1. / (self.link.deriv(mu)**2 * self.variance(mu))\n",
      "/Library/Frameworks/Python.framework/Versions/3.7/lib/python3.7/site-packages/statsmodels/genmod/generalized_linear_model.py:1163: RuntimeWarning: invalid value encountered in multiply\n",
      "  - self._offset_exposure)\n"
     ]
    },
    {
     "name": "stdout",
     "output_type": "stream",
     "text": [
      "skipped cont11\n"
     ]
    },
    {
     "name": "stderr",
     "output_type": "stream",
     "text": [
      "/Library/Frameworks/Python.framework/Versions/3.7/lib/python3.7/site-packages/statsmodels/genmod/families/family.py:697: RuntimeWarning: overflow encountered in true_divide\n",
      "  endog_mu = self._clean(endog / mu)\n",
      "/Library/Frameworks/Python.framework/Versions/3.7/lib/python3.7/site-packages/statsmodels/genmod/families/family.py:698: RuntimeWarning: overflow encountered in true_divide\n",
      "  resid_dev = -np.log(endog_mu) + (endog - mu) / mu\n",
      "/Library/Frameworks/Python.framework/Versions/3.7/lib/python3.7/site-packages/statsmodels/genmod/families/family.py:699: RuntimeWarning: overflow encountered in multiply\n",
      "  return 2 * resid_dev\n",
      "/Library/Frameworks/Python.framework/Versions/3.7/lib/python3.7/site-packages/statsmodels/genmod/generalized_linear_model.py:773: RuntimeWarning: overflow encountered in power\n",
      "  resid = np.power(self.endog - mu, 2) * self.iweights\n",
      "/Library/Frameworks/Python.framework/Versions/3.7/lib/python3.7/site-packages/statsmodels/genmod/families/varfuncs.py:104: RuntimeWarning: overflow encountered in power\n",
      "  return np.power(np.fabs(mu), self.power)\n",
      "/Library/Frameworks/Python.framework/Versions/3.7/lib/python3.7/site-packages/statsmodels/genmod/generalized_linear_model.py:774: RuntimeWarning: overflow encountered in true_divide\n",
      "  return np.sum(resid / self.family.variance(mu)) / self.df_resid\n"
     ]
    },
    {
     "name": "stdout",
     "output_type": "stream",
     "text": [
      "skipped cont12\n",
      "skipped cont13\n",
      "['cont1', 'cont2', 'cont3', 'cont4', 'cont5', 'cont6', 'cont7', 'cont8', 'cont9', 'cont10', 'cont14'] 11436.579787729526\n",
      "['cont1', 'cont2', 'cont3', 'cont4', 'cont5', 'cont6', 'cont7', 'cont8', 'cont9', 'cont10', 'cont14', 'cat5_ord'] 11038.040233282753\n",
      "['cont1', 'cont2', 'cont3', 'cont4', 'cont5', 'cont6', 'cont7', 'cont8', 'cont9', 'cont10', 'cont14', 'cat5_ord', 'cat59_ord'] 11030.077397348075\n",
      "['cont1', 'cont2', 'cont3', 'cont4', 'cont5', 'cont6', 'cont7', 'cont8', 'cont9', 'cont10', 'cont14', 'cat5_ord', 'cat59_ord', 'cat87_ord'] 11787.43581445171\n"
     ]
    },
    {
     "name": "stderr",
     "output_type": "stream",
     "text": [
      "/Library/Frameworks/Python.framework/Versions/3.7/lib/python3.7/site-packages/statsmodels/genmod/families/links.py:521: RuntimeWarning: overflow encountered in exp\n",
      "  return np.exp(z)\n",
      "/Library/Frameworks/Python.framework/Versions/3.7/lib/python3.7/site-packages/statsmodels/genmod/families/family.py:698: RuntimeWarning: invalid value encountered in true_divide\n",
      "  resid_dev = -np.log(endog_mu) + (endog - mu) / mu\n",
      "/Library/Frameworks/Python.framework/Versions/3.7/lib/python3.7/site-packages/statsmodels/genmod/generalized_linear_model.py:773: RuntimeWarning: overflow encountered in power\n",
      "  resid = np.power(self.endog - mu, 2) * self.iweights\n",
      "/Library/Frameworks/Python.framework/Versions/3.7/lib/python3.7/site-packages/statsmodels/genmod/families/varfuncs.py:104: RuntimeWarning: overflow encountered in power\n",
      "  return np.power(np.fabs(mu), self.power)\n",
      "/Library/Frameworks/Python.framework/Versions/3.7/lib/python3.7/site-packages/statsmodels/genmod/generalized_linear_model.py:774: RuntimeWarning: divide by zero encountered in true_divide\n",
      "  return np.sum(resid / self.family.variance(mu)) / self.df_resid\n",
      "/Library/Frameworks/Python.framework/Versions/3.7/lib/python3.7/site-packages/statsmodels/genmod/generalized_linear_model.py:774: RuntimeWarning: overflow encountered in true_divide\n",
      "  return np.sum(resid / self.family.variance(mu)) / self.df_resid\n",
      "/Library/Frameworks/Python.framework/Versions/3.7/lib/python3.7/site-packages/statsmodels/genmod/generalized_linear_model.py:774: RuntimeWarning: invalid value encountered in true_divide\n",
      "  return np.sum(resid / self.family.variance(mu)) / self.df_resid\n",
      "/Library/Frameworks/Python.framework/Versions/3.7/lib/python3.7/site-packages/statsmodels/genmod/families/family.py:134: RuntimeWarning: invalid value encountered in multiply\n",
      "  return 1. / (self.link.deriv(mu)**2 * self.variance(mu))\n",
      "/Library/Frameworks/Python.framework/Versions/3.7/lib/python3.7/site-packages/statsmodels/genmod/families/family.py:134: RuntimeWarning: divide by zero encountered in true_divide\n",
      "  return 1. / (self.link.deriv(mu)**2 * self.variance(mu))\n",
      "/Library/Frameworks/Python.framework/Versions/3.7/lib/python3.7/site-packages/statsmodels/genmod/generalized_linear_model.py:1163: RuntimeWarning: invalid value encountered in multiply\n",
      "  - self._offset_exposure)\n"
     ]
    },
    {
     "name": "stdout",
     "output_type": "stream",
     "text": [
      "skipped cat107_ord\n",
      "['cont1', 'cont2', 'cont3', 'cont4', 'cont5', 'cont6', 'cont7', 'cont8', 'cont9', 'cont10', 'cont14', 'cat5_ord', 'cat59_ord', 'cat87_ord', 'cat28_ord'] 11763.194521310645\n",
      "['cont1', 'cont2', 'cont3', 'cont4', 'cont5', 'cont6', 'cont7', 'cont8', 'cont9', 'cont10', 'cont14', 'cat5_ord', 'cat59_ord', 'cat87_ord', 'cat28_ord', 'cat45_ord'] 11787.49251280858\n",
      "['cont1', 'cont2', 'cont3', 'cont4', 'cont5', 'cont6', 'cont7', 'cont8', 'cont9', 'cont10', 'cont14', 'cat5_ord', 'cat59_ord', 'cat87_ord', 'cat28_ord', 'cat45_ord', 'cat76_ord'] 15584.673070301249\n",
      "['cont1', 'cont2', 'cont3', 'cont4', 'cont5', 'cont6', 'cont7', 'cont8', 'cont9', 'cont10', 'cont14', 'cat5_ord', 'cat59_ord', 'cat87_ord', 'cat28_ord', 'cat45_ord', 'cat76_ord', 'cat39_ord'] 15580.428622485997\n",
      "['cont1', 'cont2', 'cont3', 'cont4', 'cont5', 'cont6', 'cont7', 'cont8', 'cont9', 'cont10', 'cont14', 'cat5_ord', 'cat59_ord', 'cat87_ord', 'cat28_ord', 'cat45_ord', 'cat76_ord', 'cat39_ord', 'cat6_ord'] 15335.93054708037\n",
      "['cont1', 'cont2', 'cont3', 'cont4', 'cont5', 'cont6', 'cont7', 'cont8', 'cont9', 'cont10', 'cont14', 'cat5_ord', 'cat59_ord', 'cat87_ord', 'cat28_ord', 'cat45_ord', 'cat76_ord', 'cat39_ord', 'cat6_ord', 'cat102_ord'] 15369.310588315222\n",
      "['cont1', 'cont2', 'cont3', 'cont4', 'cont5', 'cont6', 'cont7', 'cont8', 'cont9', 'cont10', 'cont14', 'cat5_ord', 'cat59_ord', 'cat87_ord', 'cat28_ord', 'cat45_ord', 'cat76_ord', 'cat39_ord', 'cat6_ord', 'cat102_ord', 'cat104_ord'] 12162.154985749796\n",
      "['cont1', 'cont2', 'cont3', 'cont4', 'cont5', 'cont6', 'cont7', 'cont8', 'cont9', 'cont10', 'cont14', 'cat5_ord', 'cat59_ord', 'cat87_ord', 'cat28_ord', 'cat45_ord', 'cat76_ord', 'cat39_ord', 'cat6_ord', 'cat102_ord', 'cat104_ord', 'cat7_ord'] 12506.059151926544\n",
      "['cont1', 'cont2', 'cont3', 'cont4', 'cont5', 'cont6', 'cont7', 'cont8', 'cont9', 'cont10', 'cont14', 'cat5_ord', 'cat59_ord', 'cat87_ord', 'cat28_ord', 'cat45_ord', 'cat76_ord', 'cat39_ord', 'cat6_ord', 'cat102_ord', 'cat104_ord', 'cat7_ord', 'cat52_ord'] 12507.194891181602\n",
      "['cont1', 'cont2', 'cont3', 'cont4', 'cont5', 'cont6', 'cont7', 'cont8', 'cont9', 'cont10', 'cont14', 'cat5_ord', 'cat59_ord', 'cat87_ord', 'cat28_ord', 'cat45_ord', 'cat76_ord', 'cat39_ord', 'cat6_ord', 'cat102_ord', 'cat104_ord', 'cat7_ord', 'cat52_ord', 'cat11_ord'] 12514.589128415984\n",
      "['cont1', 'cont2', 'cont3', 'cont4', 'cont5', 'cont6', 'cont7', 'cont8', 'cont9', 'cont10', 'cont14', 'cat5_ord', 'cat59_ord', 'cat87_ord', 'cat28_ord', 'cat45_ord', 'cat76_ord', 'cat39_ord', 'cat6_ord', 'cat102_ord', 'cat104_ord', 'cat7_ord', 'cat52_ord', 'cat11_ord', 'cat56_ord'] 12511.438894807978\n",
      "['cont1', 'cont2', 'cont3', 'cont4', 'cont5', 'cont6', 'cont7', 'cont8', 'cont9', 'cont10', 'cont14', 'cat5_ord', 'cat59_ord', 'cat87_ord', 'cat28_ord', 'cat45_ord', 'cat76_ord', 'cat39_ord', 'cat6_ord', 'cat102_ord', 'cat104_ord', 'cat7_ord', 'cat52_ord', 'cat11_ord', 'cat56_ord', 'cat89_ord'] 12488.951878737851\n",
      "['cont1', 'cont2', 'cont3', 'cont4', 'cont5', 'cont6', 'cont7', 'cont8', 'cont9', 'cont10', 'cont14', 'cat5_ord', 'cat59_ord', 'cat87_ord', 'cat28_ord', 'cat45_ord', 'cat76_ord', 'cat39_ord', 'cat6_ord', 'cat102_ord', 'cat104_ord', 'cat7_ord', 'cat52_ord', 'cat11_ord', 'cat56_ord', 'cat89_ord', 'cat101_ord'] 12376.048100357097\n",
      "['cont1', 'cont2', 'cont3', 'cont4', 'cont5', 'cont6', 'cont7', 'cont8', 'cont9', 'cont10', 'cont14', 'cat5_ord', 'cat59_ord', 'cat87_ord', 'cat28_ord', 'cat45_ord', 'cat76_ord', 'cat39_ord', 'cat6_ord', 'cat102_ord', 'cat104_ord', 'cat7_ord', 'cat52_ord', 'cat11_ord', 'cat56_ord', 'cat89_ord', 'cat101_ord', 'cat22_ord'] 12375.976969981744\n",
      "['cont1', 'cont2', 'cont3', 'cont4', 'cont5', 'cont6', 'cont7', 'cont8', 'cont9', 'cont10', 'cont14', 'cat5_ord', 'cat59_ord', 'cat87_ord', 'cat28_ord', 'cat45_ord', 'cat76_ord', 'cat39_ord', 'cat6_ord', 'cat102_ord', 'cat104_ord', 'cat7_ord', 'cat52_ord', 'cat11_ord', 'cat56_ord', 'cat89_ord', 'cat101_ord', 'cat22_ord', 'cat37_ord'] 12371.994361573697\n",
      "['cont1', 'cont2', 'cont3', 'cont4', 'cont5', 'cont6', 'cont7', 'cont8', 'cont9', 'cont10', 'cont14', 'cat5_ord', 'cat59_ord', 'cat87_ord', 'cat28_ord', 'cat45_ord', 'cat76_ord', 'cat39_ord', 'cat6_ord', 'cat102_ord', 'cat104_ord', 'cat7_ord', 'cat52_ord', 'cat11_ord', 'cat56_ord', 'cat89_ord', 'cat101_ord', 'cat22_ord', 'cat37_ord', 'cat71_ord'] 11567.184683012665\n",
      "['cont1', 'cont2', 'cont3', 'cont4', 'cont5', 'cont6', 'cont7', 'cont8', 'cont9', 'cont10', 'cont14', 'cat5_ord', 'cat59_ord', 'cat87_ord', 'cat28_ord', 'cat45_ord', 'cat76_ord', 'cat39_ord', 'cat6_ord', 'cat102_ord', 'cat104_ord', 'cat7_ord', 'cat52_ord', 'cat11_ord', 'cat56_ord', 'cat89_ord', 'cat101_ord', 'cat22_ord', 'cat37_ord', 'cat71_ord', 'cat41_ord'] 11577.362966857287\n",
      "['cont1', 'cont2', 'cont3', 'cont4', 'cont5', 'cont6', 'cont7', 'cont8', 'cont9', 'cont10', 'cont14', 'cat5_ord', 'cat59_ord', 'cat87_ord', 'cat28_ord', 'cat45_ord', 'cat76_ord', 'cat39_ord', 'cat6_ord', 'cat102_ord', 'cat104_ord', 'cat7_ord', 'cat52_ord', 'cat11_ord', 'cat56_ord', 'cat89_ord', 'cat101_ord', 'cat22_ord', 'cat37_ord', 'cat71_ord', 'cat41_ord', 'cat74_ord'] 11561.629730280083\n",
      "['cont1', 'cont2', 'cont3', 'cont4', 'cont5', 'cont6', 'cont7', 'cont8', 'cont9', 'cont10', 'cont14', 'cat5_ord', 'cat59_ord', 'cat87_ord', 'cat28_ord', 'cat45_ord', 'cat76_ord', 'cat39_ord', 'cat6_ord', 'cat102_ord', 'cat104_ord', 'cat7_ord', 'cat52_ord', 'cat11_ord', 'cat56_ord', 'cat89_ord', 'cat101_ord', 'cat22_ord', 'cat37_ord', 'cat71_ord', 'cat41_ord', 'cat74_ord', 'cat57_ord'] 11682.915189491636\n",
      "['cont1', 'cont2', 'cont3', 'cont4', 'cont5', 'cont6', 'cont7', 'cont8', 'cont9', 'cont10', 'cont14', 'cat5_ord', 'cat59_ord', 'cat87_ord', 'cat28_ord', 'cat45_ord', 'cat76_ord', 'cat39_ord', 'cat6_ord', 'cat102_ord', 'cat104_ord', 'cat7_ord', 'cat52_ord', 'cat11_ord', 'cat56_ord', 'cat89_ord', 'cat101_ord', 'cat22_ord', 'cat37_ord', 'cat71_ord', 'cat41_ord', 'cat74_ord', 'cat57_ord', 'cat1_ord'] 11833.489232810725\n",
      "['cont1', 'cont2', 'cont3', 'cont4', 'cont5', 'cont6', 'cont7', 'cont8', 'cont9', 'cont10', 'cont14', 'cat5_ord', 'cat59_ord', 'cat87_ord', 'cat28_ord', 'cat45_ord', 'cat76_ord', 'cat39_ord', 'cat6_ord', 'cat102_ord', 'cat104_ord', 'cat7_ord', 'cat52_ord', 'cat11_ord', 'cat56_ord', 'cat89_ord', 'cat101_ord', 'cat22_ord', 'cat37_ord', 'cat71_ord', 'cat41_ord', 'cat74_ord', 'cat57_ord', 'cat1_ord', 'cat54_ord'] 11839.589381341106\n",
      "['cont1', 'cont2', 'cont3', 'cont4', 'cont5', 'cont6', 'cont7', 'cont8', 'cont9', 'cont10', 'cont14', 'cat5_ord', 'cat59_ord', 'cat87_ord', 'cat28_ord', 'cat45_ord', 'cat76_ord', 'cat39_ord', 'cat6_ord', 'cat102_ord', 'cat104_ord', 'cat7_ord', 'cat52_ord', 'cat11_ord', 'cat56_ord', 'cat89_ord', 'cat101_ord', 'cat22_ord', 'cat37_ord', 'cat71_ord', 'cat41_ord', 'cat74_ord', 'cat57_ord', 'cat1_ord', 'cat54_ord', 'cat42_ord'] 11824.337415517588\n",
      "['cont1', 'cont2', 'cont3', 'cont4', 'cont5', 'cont6', 'cont7', 'cont8', 'cont9', 'cont10', 'cont14', 'cat5_ord', 'cat59_ord', 'cat87_ord', 'cat28_ord', 'cat45_ord', 'cat76_ord', 'cat39_ord', 'cat6_ord', 'cat102_ord', 'cat104_ord', 'cat7_ord', 'cat52_ord', 'cat11_ord', 'cat56_ord', 'cat89_ord', 'cat101_ord', 'cat22_ord', 'cat37_ord', 'cat71_ord', 'cat41_ord', 'cat74_ord', 'cat57_ord', 'cat1_ord', 'cat54_ord', 'cat42_ord', 'cat82_ord'] 10414.220248850954\n",
      "['cont1', 'cont2', 'cont3', 'cont4', 'cont5', 'cont6', 'cont7', 'cont8', 'cont9', 'cont10', 'cont14', 'cat5_ord', 'cat59_ord', 'cat87_ord', 'cat28_ord', 'cat45_ord', 'cat76_ord', 'cat39_ord', 'cat6_ord', 'cat102_ord', 'cat104_ord', 'cat7_ord', 'cat52_ord', 'cat11_ord', 'cat56_ord', 'cat89_ord', 'cat101_ord', 'cat22_ord', 'cat37_ord', 'cat71_ord', 'cat41_ord', 'cat74_ord', 'cat57_ord', 'cat1_ord', 'cat54_ord', 'cat42_ord', 'cat82_ord', 'cat73_ord'] 10400.598402611535\n",
      "['cont1', 'cont2', 'cont3', 'cont4', 'cont5', 'cont6', 'cont7', 'cont8', 'cont9', 'cont10', 'cont14', 'cat5_ord', 'cat59_ord', 'cat87_ord', 'cat28_ord', 'cat45_ord', 'cat76_ord', 'cat39_ord', 'cat6_ord', 'cat102_ord', 'cat104_ord', 'cat7_ord', 'cat52_ord', 'cat11_ord', 'cat56_ord', 'cat89_ord', 'cat101_ord', 'cat22_ord', 'cat37_ord', 'cat71_ord', 'cat41_ord', 'cat74_ord', 'cat57_ord', 'cat1_ord', 'cat54_ord', 'cat42_ord', 'cat82_ord', 'cat73_ord', 'cat108_ord'] 9215.644218384208\n"
     ]
    },
    {
     "name": "stdout",
     "output_type": "stream",
     "text": [
      "['cont1', 'cont2', 'cont3', 'cont4', 'cont5', 'cont6', 'cont7', 'cont8', 'cont9', 'cont10', 'cont14', 'cat5_ord', 'cat59_ord', 'cat87_ord', 'cat28_ord', 'cat45_ord', 'cat76_ord', 'cat39_ord', 'cat6_ord', 'cat102_ord', 'cat104_ord', 'cat7_ord', 'cat52_ord', 'cat11_ord', 'cat56_ord', 'cat89_ord', 'cat101_ord', 'cat22_ord', 'cat37_ord', 'cat71_ord', 'cat41_ord', 'cat74_ord', 'cat57_ord', 'cat1_ord', 'cat54_ord', 'cat42_ord', 'cat82_ord', 'cat73_ord', 'cat108_ord', 'cat83_ord'] 8202.018844710696\n",
      "['cont1', 'cont2', 'cont3', 'cont4', 'cont5', 'cont6', 'cont7', 'cont8', 'cont9', 'cont10', 'cont14', 'cat5_ord', 'cat59_ord', 'cat87_ord', 'cat28_ord', 'cat45_ord', 'cat76_ord', 'cat39_ord', 'cat6_ord', 'cat102_ord', 'cat104_ord', 'cat7_ord', 'cat52_ord', 'cat11_ord', 'cat56_ord', 'cat89_ord', 'cat101_ord', 'cat22_ord', 'cat37_ord', 'cat71_ord', 'cat41_ord', 'cat74_ord', 'cat57_ord', 'cat1_ord', 'cat54_ord', 'cat42_ord', 'cat82_ord', 'cat73_ord', 'cat108_ord', 'cat83_ord', 'cat109_ord'] 7449.180245441723\n",
      "['cont1', 'cont2', 'cont3', 'cont4', 'cont5', 'cont6', 'cont7', 'cont8', 'cont9', 'cont10', 'cont14', 'cat5_ord', 'cat59_ord', 'cat87_ord', 'cat28_ord', 'cat45_ord', 'cat76_ord', 'cat39_ord', 'cat6_ord', 'cat102_ord', 'cat104_ord', 'cat7_ord', 'cat52_ord', 'cat11_ord', 'cat56_ord', 'cat89_ord', 'cat101_ord', 'cat22_ord', 'cat37_ord', 'cat71_ord', 'cat41_ord', 'cat74_ord', 'cat57_ord', 'cat1_ord', 'cat54_ord', 'cat42_ord', 'cat82_ord', 'cat73_ord', 'cat108_ord', 'cat83_ord', 'cat109_ord', 'cat13_ord'] 7342.088871624178\n",
      "['cont1', 'cont2', 'cont3', 'cont4', 'cont5', 'cont6', 'cont7', 'cont8', 'cont9', 'cont10', 'cont14', 'cat5_ord', 'cat59_ord', 'cat87_ord', 'cat28_ord', 'cat45_ord', 'cat76_ord', 'cat39_ord', 'cat6_ord', 'cat102_ord', 'cat104_ord', 'cat7_ord', 'cat52_ord', 'cat11_ord', 'cat56_ord', 'cat89_ord', 'cat101_ord', 'cat22_ord', 'cat37_ord', 'cat71_ord', 'cat41_ord', 'cat74_ord', 'cat57_ord', 'cat1_ord', 'cat54_ord', 'cat42_ord', 'cat82_ord', 'cat73_ord', 'cat108_ord', 'cat83_ord', 'cat109_ord', 'cat13_ord', 'cat63_ord'] 7342.186707330915\n",
      "['cont1', 'cont2', 'cont3', 'cont4', 'cont5', 'cont6', 'cont7', 'cont8', 'cont9', 'cont10', 'cont14', 'cat5_ord', 'cat59_ord', 'cat87_ord', 'cat28_ord', 'cat45_ord', 'cat76_ord', 'cat39_ord', 'cat6_ord', 'cat102_ord', 'cat104_ord', 'cat7_ord', 'cat52_ord', 'cat11_ord', 'cat56_ord', 'cat89_ord', 'cat101_ord', 'cat22_ord', 'cat37_ord', 'cat71_ord', 'cat41_ord', 'cat74_ord', 'cat57_ord', 'cat1_ord', 'cat54_ord', 'cat42_ord', 'cat82_ord', 'cat73_ord', 'cat108_ord', 'cat83_ord', 'cat109_ord', 'cat13_ord', 'cat63_ord', 'cat21_ord'] 7343.228477757299\n",
      "['cont1', 'cont2', 'cont3', 'cont4', 'cont5', 'cont6', 'cont7', 'cont8', 'cont9', 'cont10', 'cont14', 'cat5_ord', 'cat59_ord', 'cat87_ord', 'cat28_ord', 'cat45_ord', 'cat76_ord', 'cat39_ord', 'cat6_ord', 'cat102_ord', 'cat104_ord', 'cat7_ord', 'cat52_ord', 'cat11_ord', 'cat56_ord', 'cat89_ord', 'cat101_ord', 'cat22_ord', 'cat37_ord', 'cat71_ord', 'cat41_ord', 'cat74_ord', 'cat57_ord', 'cat1_ord', 'cat54_ord', 'cat42_ord', 'cat82_ord', 'cat73_ord', 'cat108_ord', 'cat83_ord', 'cat109_ord', 'cat13_ord', 'cat63_ord', 'cat21_ord', 'cat2_ord'] 6798.036896835713\n",
      "['cont1', 'cont2', 'cont3', 'cont4', 'cont5', 'cont6', 'cont7', 'cont8', 'cont9', 'cont10', 'cont14', 'cat5_ord', 'cat59_ord', 'cat87_ord', 'cat28_ord', 'cat45_ord', 'cat76_ord', 'cat39_ord', 'cat6_ord', 'cat102_ord', 'cat104_ord', 'cat7_ord', 'cat52_ord', 'cat11_ord', 'cat56_ord', 'cat89_ord', 'cat101_ord', 'cat22_ord', 'cat37_ord', 'cat71_ord', 'cat41_ord', 'cat74_ord', 'cat57_ord', 'cat1_ord', 'cat54_ord', 'cat42_ord', 'cat82_ord', 'cat73_ord', 'cat108_ord', 'cat83_ord', 'cat109_ord', 'cat13_ord', 'cat63_ord', 'cat21_ord', 'cat2_ord', 'cat18_ord'] 6805.228434817833\n",
      "['cont1', 'cont2', 'cont3', 'cont4', 'cont5', 'cont6', 'cont7', 'cont8', 'cont9', 'cont10', 'cont14', 'cat5_ord', 'cat59_ord', 'cat87_ord', 'cat28_ord', 'cat45_ord', 'cat76_ord', 'cat39_ord', 'cat6_ord', 'cat102_ord', 'cat104_ord', 'cat7_ord', 'cat52_ord', 'cat11_ord', 'cat56_ord', 'cat89_ord', 'cat101_ord', 'cat22_ord', 'cat37_ord', 'cat71_ord', 'cat41_ord', 'cat74_ord', 'cat57_ord', 'cat1_ord', 'cat54_ord', 'cat42_ord', 'cat82_ord', 'cat73_ord', 'cat108_ord', 'cat83_ord', 'cat109_ord', 'cat13_ord', 'cat63_ord', 'cat21_ord', 'cat2_ord', 'cat18_ord', 'cat93_ord'] 3752.456397722813\n"
     ]
    },
    {
     "name": "stderr",
     "output_type": "stream",
     "text": [
      "/Library/Frameworks/Python.framework/Versions/3.7/lib/python3.7/site-packages/statsmodels/genmod/families/links.py:521: RuntimeWarning: overflow encountered in exp\n",
      "  return np.exp(z)\n",
      "/Library/Frameworks/Python.framework/Versions/3.7/lib/python3.7/site-packages/statsmodels/genmod/families/family.py:697: RuntimeWarning: divide by zero encountered in true_divide\n",
      "  endog_mu = self._clean(endog / mu)\n",
      "/Library/Frameworks/Python.framework/Versions/3.7/lib/python3.7/site-packages/statsmodels/genmod/families/family.py:698: RuntimeWarning: divide by zero encountered in true_divide\n",
      "  resid_dev = -np.log(endog_mu) + (endog - mu) / mu\n",
      "/Library/Frameworks/Python.framework/Versions/3.7/lib/python3.7/site-packages/statsmodels/genmod/families/family.py:698: RuntimeWarning: invalid value encountered in true_divide\n",
      "  resid_dev = -np.log(endog_mu) + (endog - mu) / mu\n",
      "/Library/Frameworks/Python.framework/Versions/3.7/lib/python3.7/site-packages/statsmodels/genmod/families/family.py:698: RuntimeWarning: invalid value encountered in add\n",
      "  resid_dev = -np.log(endog_mu) + (endog - mu) / mu\n",
      "/Library/Frameworks/Python.framework/Versions/3.7/lib/python3.7/site-packages/statsmodels/genmod/generalized_linear_model.py:774: RuntimeWarning: divide by zero encountered in true_divide\n",
      "  return np.sum(resid / self.family.variance(mu)) / self.df_resid\n",
      "/Library/Frameworks/Python.framework/Versions/3.7/lib/python3.7/site-packages/statsmodels/genmod/generalized_linear_model.py:774: RuntimeWarning: invalid value encountered in true_divide\n",
      "  return np.sum(resid / self.family.variance(mu)) / self.df_resid\n",
      "/Library/Frameworks/Python.framework/Versions/3.7/lib/python3.7/site-packages/statsmodels/genmod/families/family.py:134: RuntimeWarning: invalid value encountered in multiply\n",
      "  return 1. / (self.link.deriv(mu)**2 * self.variance(mu))\n",
      "/Library/Frameworks/Python.framework/Versions/3.7/lib/python3.7/site-packages/statsmodels/genmod/families/family.py:134: RuntimeWarning: divide by zero encountered in true_divide\n",
      "  return 1. / (self.link.deriv(mu)**2 * self.variance(mu))\n",
      "/Library/Frameworks/Python.framework/Versions/3.7/lib/python3.7/site-packages/statsmodels/genmod/generalized_linear_model.py:1163: RuntimeWarning: invalid value encountered in multiply\n",
      "  - self._offset_exposure)\n"
     ]
    },
    {
     "name": "stdout",
     "output_type": "stream",
     "text": [
      "skipped cat115_ord\n",
      "['cont1', 'cont2', 'cont3', 'cont4', 'cont5', 'cont6', 'cont7', 'cont8', 'cont9', 'cont10', 'cont14', 'cat5_ord', 'cat59_ord', 'cat87_ord', 'cat28_ord', 'cat45_ord', 'cat76_ord', 'cat39_ord', 'cat6_ord', 'cat102_ord', 'cat104_ord', 'cat7_ord', 'cat52_ord', 'cat11_ord', 'cat56_ord', 'cat89_ord', 'cat101_ord', 'cat22_ord', 'cat37_ord', 'cat71_ord', 'cat41_ord', 'cat74_ord', 'cat57_ord', 'cat1_ord', 'cat54_ord', 'cat42_ord', 'cat82_ord', 'cat73_ord', 'cat108_ord', 'cat83_ord', 'cat109_ord', 'cat13_ord', 'cat63_ord', 'cat21_ord', 'cat2_ord', 'cat18_ord', 'cat93_ord', 'cat9_ord'] 3749.9944912620326\n",
      "['cont1', 'cont2', 'cont3', 'cont4', 'cont5', 'cont6', 'cont7', 'cont8', 'cont9', 'cont10', 'cont14', 'cat5_ord', 'cat59_ord', 'cat87_ord', 'cat28_ord', 'cat45_ord', 'cat76_ord', 'cat39_ord', 'cat6_ord', 'cat102_ord', 'cat104_ord', 'cat7_ord', 'cat52_ord', 'cat11_ord', 'cat56_ord', 'cat89_ord', 'cat101_ord', 'cat22_ord', 'cat37_ord', 'cat71_ord', 'cat41_ord', 'cat74_ord', 'cat57_ord', 'cat1_ord', 'cat54_ord', 'cat42_ord', 'cat82_ord', 'cat73_ord', 'cat108_ord', 'cat83_ord', 'cat109_ord', 'cat13_ord', 'cat63_ord', 'cat21_ord', 'cat2_ord', 'cat18_ord', 'cat93_ord', 'cat9_ord', 'cat25_ord'] 3798.662931246259\n",
      "['cont1', 'cont2', 'cont3', 'cont4', 'cont5', 'cont6', 'cont7', 'cont8', 'cont9', 'cont10', 'cont14', 'cat5_ord', 'cat59_ord', 'cat87_ord', 'cat28_ord', 'cat45_ord', 'cat76_ord', 'cat39_ord', 'cat6_ord', 'cat102_ord', 'cat104_ord', 'cat7_ord', 'cat52_ord', 'cat11_ord', 'cat56_ord', 'cat89_ord', 'cat101_ord', 'cat22_ord', 'cat37_ord', 'cat71_ord', 'cat41_ord', 'cat74_ord', 'cat57_ord', 'cat1_ord', 'cat54_ord', 'cat42_ord', 'cat82_ord', 'cat73_ord', 'cat108_ord', 'cat83_ord', 'cat109_ord', 'cat13_ord', 'cat63_ord', 'cat21_ord', 'cat2_ord', 'cat18_ord', 'cat93_ord', 'cat9_ord', 'cat25_ord', 'cat66_ord'] 3797.2824713402665\n",
      "['cont1', 'cont2', 'cont3', 'cont4', 'cont5', 'cont6', 'cont7', 'cont8', 'cont9', 'cont10', 'cont14', 'cat5_ord', 'cat59_ord', 'cat87_ord', 'cat28_ord', 'cat45_ord', 'cat76_ord', 'cat39_ord', 'cat6_ord', 'cat102_ord', 'cat104_ord', 'cat7_ord', 'cat52_ord', 'cat11_ord', 'cat56_ord', 'cat89_ord', 'cat101_ord', 'cat22_ord', 'cat37_ord', 'cat71_ord', 'cat41_ord', 'cat74_ord', 'cat57_ord', 'cat1_ord', 'cat54_ord', 'cat42_ord', 'cat82_ord', 'cat73_ord', 'cat108_ord', 'cat83_ord', 'cat109_ord', 'cat13_ord', 'cat63_ord', 'cat21_ord', 'cat2_ord', 'cat18_ord', 'cat93_ord', 'cat9_ord', 'cat25_ord', 'cat66_ord', 'cat60_ord'] 3797.1159657494927\n",
      "['cont1', 'cont2', 'cont3', 'cont4', 'cont5', 'cont6', 'cont7', 'cont8', 'cont9', 'cont10', 'cont14', 'cat5_ord', 'cat59_ord', 'cat87_ord', 'cat28_ord', 'cat45_ord', 'cat76_ord', 'cat39_ord', 'cat6_ord', 'cat102_ord', 'cat104_ord', 'cat7_ord', 'cat52_ord', 'cat11_ord', 'cat56_ord', 'cat89_ord', 'cat101_ord', 'cat22_ord', 'cat37_ord', 'cat71_ord', 'cat41_ord', 'cat74_ord', 'cat57_ord', 'cat1_ord', 'cat54_ord', 'cat42_ord', 'cat82_ord', 'cat73_ord', 'cat108_ord', 'cat83_ord', 'cat109_ord', 'cat13_ord', 'cat63_ord', 'cat21_ord', 'cat2_ord', 'cat18_ord', 'cat93_ord', 'cat9_ord', 'cat25_ord', 'cat66_ord', 'cat60_ord', 'cat43_ord'] 3797.926473589843\n",
      "['cont1', 'cont2', 'cont3', 'cont4', 'cont5', 'cont6', 'cont7', 'cont8', 'cont9', 'cont10', 'cont14', 'cat5_ord', 'cat59_ord', 'cat87_ord', 'cat28_ord', 'cat45_ord', 'cat76_ord', 'cat39_ord', 'cat6_ord', 'cat102_ord', 'cat104_ord', 'cat7_ord', 'cat52_ord', 'cat11_ord', 'cat56_ord', 'cat89_ord', 'cat101_ord', 'cat22_ord', 'cat37_ord', 'cat71_ord', 'cat41_ord', 'cat74_ord', 'cat57_ord', 'cat1_ord', 'cat54_ord', 'cat42_ord', 'cat82_ord', 'cat73_ord', 'cat108_ord', 'cat83_ord', 'cat109_ord', 'cat13_ord', 'cat63_ord', 'cat21_ord', 'cat2_ord', 'cat18_ord', 'cat93_ord', 'cat9_ord', 'cat25_ord', 'cat66_ord', 'cat60_ord', 'cat43_ord', 'cat50_ord'] 3798.604885539251\n",
      "['cont1', 'cont2', 'cont3', 'cont4', 'cont5', 'cont6', 'cont7', 'cont8', 'cont9', 'cont10', 'cont14', 'cat5_ord', 'cat59_ord', 'cat87_ord', 'cat28_ord', 'cat45_ord', 'cat76_ord', 'cat39_ord', 'cat6_ord', 'cat102_ord', 'cat104_ord', 'cat7_ord', 'cat52_ord', 'cat11_ord', 'cat56_ord', 'cat89_ord', 'cat101_ord', 'cat22_ord', 'cat37_ord', 'cat71_ord', 'cat41_ord', 'cat74_ord', 'cat57_ord', 'cat1_ord', 'cat54_ord', 'cat42_ord', 'cat82_ord', 'cat73_ord', 'cat108_ord', 'cat83_ord', 'cat109_ord', 'cat13_ord', 'cat63_ord', 'cat21_ord', 'cat2_ord', 'cat18_ord', 'cat93_ord', 'cat9_ord', 'cat25_ord', 'cat66_ord', 'cat60_ord', 'cat43_ord', 'cat50_ord', 'cat105_ord'] 3813.987520723778\n",
      "['cont1', 'cont2', 'cont3', 'cont4', 'cont5', 'cont6', 'cont7', 'cont8', 'cont9', 'cont10', 'cont14', 'cat5_ord', 'cat59_ord', 'cat87_ord', 'cat28_ord', 'cat45_ord', 'cat76_ord', 'cat39_ord', 'cat6_ord', 'cat102_ord', 'cat104_ord', 'cat7_ord', 'cat52_ord', 'cat11_ord', 'cat56_ord', 'cat89_ord', 'cat101_ord', 'cat22_ord', 'cat37_ord', 'cat71_ord', 'cat41_ord', 'cat74_ord', 'cat57_ord', 'cat1_ord', 'cat54_ord', 'cat42_ord', 'cat82_ord', 'cat73_ord', 'cat108_ord', 'cat83_ord', 'cat109_ord', 'cat13_ord', 'cat63_ord', 'cat21_ord', 'cat2_ord', 'cat18_ord', 'cat93_ord', 'cat9_ord', 'cat25_ord', 'cat66_ord', 'cat60_ord', 'cat43_ord', 'cat50_ord', 'cat105_ord', 'cat3_ord'] 3802.270271802158\n",
      "['cont1', 'cont2', 'cont3', 'cont4', 'cont5', 'cont6', 'cont7', 'cont8', 'cont9', 'cont10', 'cont14', 'cat5_ord', 'cat59_ord', 'cat87_ord', 'cat28_ord', 'cat45_ord', 'cat76_ord', 'cat39_ord', 'cat6_ord', 'cat102_ord', 'cat104_ord', 'cat7_ord', 'cat52_ord', 'cat11_ord', 'cat56_ord', 'cat89_ord', 'cat101_ord', 'cat22_ord', 'cat37_ord', 'cat71_ord', 'cat41_ord', 'cat74_ord', 'cat57_ord', 'cat1_ord', 'cat54_ord', 'cat42_ord', 'cat82_ord', 'cat73_ord', 'cat108_ord', 'cat83_ord', 'cat109_ord', 'cat13_ord', 'cat63_ord', 'cat21_ord', 'cat2_ord', 'cat18_ord', 'cat93_ord', 'cat9_ord', 'cat25_ord', 'cat66_ord', 'cat60_ord', 'cat43_ord', 'cat50_ord', 'cat105_ord', 'cat3_ord', 'cat78_ord'] 441173.0434046186\n",
      "['cont1', 'cont2', 'cont3', 'cont4', 'cont5', 'cont6', 'cont7', 'cont8', 'cont9', 'cont10', 'cont14', 'cat5_ord', 'cat59_ord', 'cat87_ord', 'cat28_ord', 'cat45_ord', 'cat76_ord', 'cat39_ord', 'cat6_ord', 'cat102_ord', 'cat104_ord', 'cat7_ord', 'cat52_ord', 'cat11_ord', 'cat56_ord', 'cat89_ord', 'cat101_ord', 'cat22_ord', 'cat37_ord', 'cat71_ord', 'cat41_ord', 'cat74_ord', 'cat57_ord', 'cat1_ord', 'cat54_ord', 'cat42_ord', 'cat82_ord', 'cat73_ord', 'cat108_ord', 'cat83_ord', 'cat109_ord', 'cat13_ord', 'cat63_ord', 'cat21_ord', 'cat2_ord', 'cat18_ord', 'cat93_ord', 'cat9_ord', 'cat25_ord', 'cat66_ord', 'cat60_ord', 'cat43_ord', 'cat50_ord', 'cat105_ord', 'cat3_ord', 'cat78_ord', 'cat110_ord'] 232338.48956063812\n",
      "['cont1', 'cont2', 'cont3', 'cont4', 'cont5', 'cont6', 'cont7', 'cont8', 'cont9', 'cont10', 'cont14', 'cat5_ord', 'cat59_ord', 'cat87_ord', 'cat28_ord', 'cat45_ord', 'cat76_ord', 'cat39_ord', 'cat6_ord', 'cat102_ord', 'cat104_ord', 'cat7_ord', 'cat52_ord', 'cat11_ord', 'cat56_ord', 'cat89_ord', 'cat101_ord', 'cat22_ord', 'cat37_ord', 'cat71_ord', 'cat41_ord', 'cat74_ord', 'cat57_ord', 'cat1_ord', 'cat54_ord', 'cat42_ord', 'cat82_ord', 'cat73_ord', 'cat108_ord', 'cat83_ord', 'cat109_ord', 'cat13_ord', 'cat63_ord', 'cat21_ord', 'cat2_ord', 'cat18_ord', 'cat93_ord', 'cat9_ord', 'cat25_ord', 'cat66_ord', 'cat60_ord', 'cat43_ord', 'cat50_ord', 'cat105_ord', 'cat3_ord', 'cat78_ord', 'cat110_ord', 'cat90_ord'] 207878.17660254939\n",
      "['cont1', 'cont2', 'cont3', 'cont4', 'cont5', 'cont6', 'cont7', 'cont8', 'cont9', 'cont10', 'cont14', 'cat5_ord', 'cat59_ord', 'cat87_ord', 'cat28_ord', 'cat45_ord', 'cat76_ord', 'cat39_ord', 'cat6_ord', 'cat102_ord', 'cat104_ord', 'cat7_ord', 'cat52_ord', 'cat11_ord', 'cat56_ord', 'cat89_ord', 'cat101_ord', 'cat22_ord', 'cat37_ord', 'cat71_ord', 'cat41_ord', 'cat74_ord', 'cat57_ord', 'cat1_ord', 'cat54_ord', 'cat42_ord', 'cat82_ord', 'cat73_ord', 'cat108_ord', 'cat83_ord', 'cat109_ord', 'cat13_ord', 'cat63_ord', 'cat21_ord', 'cat2_ord', 'cat18_ord', 'cat93_ord', 'cat9_ord', 'cat25_ord', 'cat66_ord', 'cat60_ord', 'cat43_ord', 'cat50_ord', 'cat105_ord', 'cat3_ord', 'cat78_ord', 'cat110_ord', 'cat90_ord', 'cat53_ord'] 204666.81095523824\n",
      "['cont1', 'cont2', 'cont3', 'cont4', 'cont5', 'cont6', 'cont7', 'cont8', 'cont9', 'cont10', 'cont14', 'cat5_ord', 'cat59_ord', 'cat87_ord', 'cat28_ord', 'cat45_ord', 'cat76_ord', 'cat39_ord', 'cat6_ord', 'cat102_ord', 'cat104_ord', 'cat7_ord', 'cat52_ord', 'cat11_ord', 'cat56_ord', 'cat89_ord', 'cat101_ord', 'cat22_ord', 'cat37_ord', 'cat71_ord', 'cat41_ord', 'cat74_ord', 'cat57_ord', 'cat1_ord', 'cat54_ord', 'cat42_ord', 'cat82_ord', 'cat73_ord', 'cat108_ord', 'cat83_ord', 'cat109_ord', 'cat13_ord', 'cat63_ord', 'cat21_ord', 'cat2_ord', 'cat18_ord', 'cat93_ord', 'cat9_ord', 'cat25_ord', 'cat66_ord', 'cat60_ord', 'cat43_ord', 'cat50_ord', 'cat105_ord', 'cat3_ord', 'cat78_ord', 'cat110_ord', 'cat90_ord', 'cat53_ord', 'cat69_ord'] 201432.73443092444\n"
     ]
    },
    {
     "name": "stdout",
     "output_type": "stream",
     "text": [
      "['cont1', 'cont2', 'cont3', 'cont4', 'cont5', 'cont6', 'cont7', 'cont8', 'cont9', 'cont10', 'cont14', 'cat5_ord', 'cat59_ord', 'cat87_ord', 'cat28_ord', 'cat45_ord', 'cat76_ord', 'cat39_ord', 'cat6_ord', 'cat102_ord', 'cat104_ord', 'cat7_ord', 'cat52_ord', 'cat11_ord', 'cat56_ord', 'cat89_ord', 'cat101_ord', 'cat22_ord', 'cat37_ord', 'cat71_ord', 'cat41_ord', 'cat74_ord', 'cat57_ord', 'cat1_ord', 'cat54_ord', 'cat42_ord', 'cat82_ord', 'cat73_ord', 'cat108_ord', 'cat83_ord', 'cat109_ord', 'cat13_ord', 'cat63_ord', 'cat21_ord', 'cat2_ord', 'cat18_ord', 'cat93_ord', 'cat9_ord', 'cat25_ord', 'cat66_ord', 'cat60_ord', 'cat43_ord', 'cat50_ord', 'cat105_ord', 'cat3_ord', 'cat78_ord', 'cat110_ord', 'cat90_ord', 'cat53_ord', 'cat69_ord', 'cat23_ord'] 201251.01988774003\n"
     ]
    },
    {
     "name": "stderr",
     "output_type": "stream",
     "text": [
      "/Library/Frameworks/Python.framework/Versions/3.7/lib/python3.7/site-packages/statsmodels/genmod/families/links.py:521: RuntimeWarning: overflow encountered in exp\n",
      "  return np.exp(z)\n",
      "/Library/Frameworks/Python.framework/Versions/3.7/lib/python3.7/site-packages/statsmodels/genmod/families/family.py:697: RuntimeWarning: divide by zero encountered in true_divide\n",
      "  endog_mu = self._clean(endog / mu)\n",
      "/Library/Frameworks/Python.framework/Versions/3.7/lib/python3.7/site-packages/statsmodels/genmod/families/family.py:697: RuntimeWarning: overflow encountered in true_divide\n",
      "  endog_mu = self._clean(endog / mu)\n",
      "/Library/Frameworks/Python.framework/Versions/3.7/lib/python3.7/site-packages/statsmodels/genmod/families/family.py:698: RuntimeWarning: divide by zero encountered in true_divide\n",
      "  resid_dev = -np.log(endog_mu) + (endog - mu) / mu\n",
      "/Library/Frameworks/Python.framework/Versions/3.7/lib/python3.7/site-packages/statsmodels/genmod/families/family.py:698: RuntimeWarning: overflow encountered in true_divide\n",
      "  resid_dev = -np.log(endog_mu) + (endog - mu) / mu\n",
      "/Library/Frameworks/Python.framework/Versions/3.7/lib/python3.7/site-packages/statsmodels/genmod/families/family.py:698: RuntimeWarning: invalid value encountered in true_divide\n",
      "  resid_dev = -np.log(endog_mu) + (endog - mu) / mu\n",
      "/Library/Frameworks/Python.framework/Versions/3.7/lib/python3.7/site-packages/statsmodels/genmod/families/family.py:698: RuntimeWarning: invalid value encountered in add\n",
      "  resid_dev = -np.log(endog_mu) + (endog - mu) / mu\n",
      "/Library/Frameworks/Python.framework/Versions/3.7/lib/python3.7/site-packages/statsmodels/genmod/families/family.py:699: RuntimeWarning: overflow encountered in multiply\n",
      "  return 2 * resid_dev\n",
      "/Library/Frameworks/Python.framework/Versions/3.7/lib/python3.7/site-packages/statsmodels/genmod/generalized_linear_model.py:773: RuntimeWarning: overflow encountered in power\n",
      "  resid = np.power(self.endog - mu, 2) * self.iweights\n",
      "/Library/Frameworks/Python.framework/Versions/3.7/lib/python3.7/site-packages/statsmodels/genmod/families/varfuncs.py:104: RuntimeWarning: overflow encountered in power\n",
      "  return np.power(np.fabs(mu), self.power)\n",
      "/Library/Frameworks/Python.framework/Versions/3.7/lib/python3.7/site-packages/statsmodels/genmod/generalized_linear_model.py:774: RuntimeWarning: divide by zero encountered in true_divide\n",
      "  return np.sum(resid / self.family.variance(mu)) / self.df_resid\n",
      "/Library/Frameworks/Python.framework/Versions/3.7/lib/python3.7/site-packages/statsmodels/genmod/generalized_linear_model.py:774: RuntimeWarning: overflow encountered in true_divide\n",
      "  return np.sum(resid / self.family.variance(mu)) / self.df_resid\n",
      "/Library/Frameworks/Python.framework/Versions/3.7/lib/python3.7/site-packages/statsmodels/genmod/generalized_linear_model.py:774: RuntimeWarning: invalid value encountered in true_divide\n",
      "  return np.sum(resid / self.family.variance(mu)) / self.df_resid\n",
      "/Library/Frameworks/Python.framework/Versions/3.7/lib/python3.7/site-packages/statsmodels/genmod/families/family.py:134: RuntimeWarning: invalid value encountered in multiply\n",
      "  return 1. / (self.link.deriv(mu)**2 * self.variance(mu))\n",
      "/Library/Frameworks/Python.framework/Versions/3.7/lib/python3.7/site-packages/statsmodels/genmod/families/family.py:134: RuntimeWarning: divide by zero encountered in true_divide\n",
      "  return 1. / (self.link.deriv(mu)**2 * self.variance(mu))\n",
      "/Library/Frameworks/Python.framework/Versions/3.7/lib/python3.7/site-packages/statsmodels/genmod/generalized_linear_model.py:1163: RuntimeWarning: invalid value encountered in multiply\n",
      "  - self._offset_exposure)\n"
     ]
    },
    {
     "name": "stdout",
     "output_type": "stream",
     "text": [
      "skipped cat106_ord\n",
      "['cont1', 'cont2', 'cont3', 'cont4', 'cont5', 'cont6', 'cont7', 'cont8', 'cont9', 'cont10', 'cont14', 'cat5_ord', 'cat59_ord', 'cat87_ord', 'cat28_ord', 'cat45_ord', 'cat76_ord', 'cat39_ord', 'cat6_ord', 'cat102_ord', 'cat104_ord', 'cat7_ord', 'cat52_ord', 'cat11_ord', 'cat56_ord', 'cat89_ord', 'cat101_ord', 'cat22_ord', 'cat37_ord', 'cat71_ord', 'cat41_ord', 'cat74_ord', 'cat57_ord', 'cat1_ord', 'cat54_ord', 'cat42_ord', 'cat82_ord', 'cat73_ord', 'cat108_ord', 'cat83_ord', 'cat109_ord', 'cat13_ord', 'cat63_ord', 'cat21_ord', 'cat2_ord', 'cat18_ord', 'cat93_ord', 'cat9_ord', 'cat25_ord', 'cat66_ord', 'cat60_ord', 'cat43_ord', 'cat50_ord', 'cat105_ord', 'cat3_ord', 'cat78_ord', 'cat110_ord', 'cat90_ord', 'cat53_ord', 'cat69_ord', 'cat23_ord', 'cat4_ord'] 173972.93926467808\n",
      "['cont1', 'cont2', 'cont3', 'cont4', 'cont5', 'cont6', 'cont7', 'cont8', 'cont9', 'cont10', 'cont14', 'cat5_ord', 'cat59_ord', 'cat87_ord', 'cat28_ord', 'cat45_ord', 'cat76_ord', 'cat39_ord', 'cat6_ord', 'cat102_ord', 'cat104_ord', 'cat7_ord', 'cat52_ord', 'cat11_ord', 'cat56_ord', 'cat89_ord', 'cat101_ord', 'cat22_ord', 'cat37_ord', 'cat71_ord', 'cat41_ord', 'cat74_ord', 'cat57_ord', 'cat1_ord', 'cat54_ord', 'cat42_ord', 'cat82_ord', 'cat73_ord', 'cat108_ord', 'cat83_ord', 'cat109_ord', 'cat13_ord', 'cat63_ord', 'cat21_ord', 'cat2_ord', 'cat18_ord', 'cat93_ord', 'cat9_ord', 'cat25_ord', 'cat66_ord', 'cat60_ord', 'cat43_ord', 'cat50_ord', 'cat105_ord', 'cat3_ord', 'cat78_ord', 'cat110_ord', 'cat90_ord', 'cat53_ord', 'cat69_ord', 'cat23_ord', 'cat4_ord', 'cat99_ord'] 104588.94826443214\n",
      "['cont1', 'cont2', 'cont3', 'cont4', 'cont5', 'cont6', 'cont7', 'cont8', 'cont9', 'cont10', 'cont14', 'cat5_ord', 'cat59_ord', 'cat87_ord', 'cat28_ord', 'cat45_ord', 'cat76_ord', 'cat39_ord', 'cat6_ord', 'cat102_ord', 'cat104_ord', 'cat7_ord', 'cat52_ord', 'cat11_ord', 'cat56_ord', 'cat89_ord', 'cat101_ord', 'cat22_ord', 'cat37_ord', 'cat71_ord', 'cat41_ord', 'cat74_ord', 'cat57_ord', 'cat1_ord', 'cat54_ord', 'cat42_ord', 'cat82_ord', 'cat73_ord', 'cat108_ord', 'cat83_ord', 'cat109_ord', 'cat13_ord', 'cat63_ord', 'cat21_ord', 'cat2_ord', 'cat18_ord', 'cat93_ord', 'cat9_ord', 'cat25_ord', 'cat66_ord', 'cat60_ord', 'cat43_ord', 'cat50_ord', 'cat105_ord', 'cat3_ord', 'cat78_ord', 'cat110_ord', 'cat90_ord', 'cat53_ord', 'cat69_ord', 'cat23_ord', 'cat4_ord', 'cat99_ord', 'cat79_ord'] 91956.08846986515\n",
      "['cont1', 'cont2', 'cont3', 'cont4', 'cont5', 'cont6', 'cont7', 'cont8', 'cont9', 'cont10', 'cont14', 'cat5_ord', 'cat59_ord', 'cat87_ord', 'cat28_ord', 'cat45_ord', 'cat76_ord', 'cat39_ord', 'cat6_ord', 'cat102_ord', 'cat104_ord', 'cat7_ord', 'cat52_ord', 'cat11_ord', 'cat56_ord', 'cat89_ord', 'cat101_ord', 'cat22_ord', 'cat37_ord', 'cat71_ord', 'cat41_ord', 'cat74_ord', 'cat57_ord', 'cat1_ord', 'cat54_ord', 'cat42_ord', 'cat82_ord', 'cat73_ord', 'cat108_ord', 'cat83_ord', 'cat109_ord', 'cat13_ord', 'cat63_ord', 'cat21_ord', 'cat2_ord', 'cat18_ord', 'cat93_ord', 'cat9_ord', 'cat25_ord', 'cat66_ord', 'cat60_ord', 'cat43_ord', 'cat50_ord', 'cat105_ord', 'cat3_ord', 'cat78_ord', 'cat110_ord', 'cat90_ord', 'cat53_ord', 'cat69_ord', 'cat23_ord', 'cat4_ord', 'cat99_ord', 'cat79_ord', 'cat58_ord'] 94963.56113743894\n",
      "['cont1', 'cont2', 'cont3', 'cont4', 'cont5', 'cont6', 'cont7', 'cont8', 'cont9', 'cont10', 'cont14', 'cat5_ord', 'cat59_ord', 'cat87_ord', 'cat28_ord', 'cat45_ord', 'cat76_ord', 'cat39_ord', 'cat6_ord', 'cat102_ord', 'cat104_ord', 'cat7_ord', 'cat52_ord', 'cat11_ord', 'cat56_ord', 'cat89_ord', 'cat101_ord', 'cat22_ord', 'cat37_ord', 'cat71_ord', 'cat41_ord', 'cat74_ord', 'cat57_ord', 'cat1_ord', 'cat54_ord', 'cat42_ord', 'cat82_ord', 'cat73_ord', 'cat108_ord', 'cat83_ord', 'cat109_ord', 'cat13_ord', 'cat63_ord', 'cat21_ord', 'cat2_ord', 'cat18_ord', 'cat93_ord', 'cat9_ord', 'cat25_ord', 'cat66_ord', 'cat60_ord', 'cat43_ord', 'cat50_ord', 'cat105_ord', 'cat3_ord', 'cat78_ord', 'cat110_ord', 'cat90_ord', 'cat53_ord', 'cat69_ord', 'cat23_ord', 'cat4_ord', 'cat99_ord', 'cat79_ord', 'cat58_ord', 'cat114_ord'] 96621.77270881821\n",
      "['cont1', 'cont2', 'cont3', 'cont4', 'cont5', 'cont6', 'cont7', 'cont8', 'cont9', 'cont10', 'cont14', 'cat5_ord', 'cat59_ord', 'cat87_ord', 'cat28_ord', 'cat45_ord', 'cat76_ord', 'cat39_ord', 'cat6_ord', 'cat102_ord', 'cat104_ord', 'cat7_ord', 'cat52_ord', 'cat11_ord', 'cat56_ord', 'cat89_ord', 'cat101_ord', 'cat22_ord', 'cat37_ord', 'cat71_ord', 'cat41_ord', 'cat74_ord', 'cat57_ord', 'cat1_ord', 'cat54_ord', 'cat42_ord', 'cat82_ord', 'cat73_ord', 'cat108_ord', 'cat83_ord', 'cat109_ord', 'cat13_ord', 'cat63_ord', 'cat21_ord', 'cat2_ord', 'cat18_ord', 'cat93_ord', 'cat9_ord', 'cat25_ord', 'cat66_ord', 'cat60_ord', 'cat43_ord', 'cat50_ord', 'cat105_ord', 'cat3_ord', 'cat78_ord', 'cat110_ord', 'cat90_ord', 'cat53_ord', 'cat69_ord', 'cat23_ord', 'cat4_ord', 'cat99_ord', 'cat79_ord', 'cat58_ord', 'cat114_ord', 'cat112_ord'] 95381.75499528597\n",
      "['cont1', 'cont2', 'cont3', 'cont4', 'cont5', 'cont6', 'cont7', 'cont8', 'cont9', 'cont10', 'cont14', 'cat5_ord', 'cat59_ord', 'cat87_ord', 'cat28_ord', 'cat45_ord', 'cat76_ord', 'cat39_ord', 'cat6_ord', 'cat102_ord', 'cat104_ord', 'cat7_ord', 'cat52_ord', 'cat11_ord', 'cat56_ord', 'cat89_ord', 'cat101_ord', 'cat22_ord', 'cat37_ord', 'cat71_ord', 'cat41_ord', 'cat74_ord', 'cat57_ord', 'cat1_ord', 'cat54_ord', 'cat42_ord', 'cat82_ord', 'cat73_ord', 'cat108_ord', 'cat83_ord', 'cat109_ord', 'cat13_ord', 'cat63_ord', 'cat21_ord', 'cat2_ord', 'cat18_ord', 'cat93_ord', 'cat9_ord', 'cat25_ord', 'cat66_ord', 'cat60_ord', 'cat43_ord', 'cat50_ord', 'cat105_ord', 'cat3_ord', 'cat78_ord', 'cat110_ord', 'cat90_ord', 'cat53_ord', 'cat69_ord', 'cat23_ord', 'cat4_ord', 'cat99_ord', 'cat79_ord', 'cat58_ord', 'cat114_ord', 'cat112_ord', 'cat70_ord'] 95368.69594875573\n",
      "['cont1', 'cont2', 'cont3', 'cont4', 'cont5', 'cont6', 'cont7', 'cont8', 'cont9', 'cont10', 'cont14', 'cat5_ord', 'cat59_ord', 'cat87_ord', 'cat28_ord', 'cat45_ord', 'cat76_ord', 'cat39_ord', 'cat6_ord', 'cat102_ord', 'cat104_ord', 'cat7_ord', 'cat52_ord', 'cat11_ord', 'cat56_ord', 'cat89_ord', 'cat101_ord', 'cat22_ord', 'cat37_ord', 'cat71_ord', 'cat41_ord', 'cat74_ord', 'cat57_ord', 'cat1_ord', 'cat54_ord', 'cat42_ord', 'cat82_ord', 'cat73_ord', 'cat108_ord', 'cat83_ord', 'cat109_ord', 'cat13_ord', 'cat63_ord', 'cat21_ord', 'cat2_ord', 'cat18_ord', 'cat93_ord', 'cat9_ord', 'cat25_ord', 'cat66_ord', 'cat60_ord', 'cat43_ord', 'cat50_ord', 'cat105_ord', 'cat3_ord', 'cat78_ord', 'cat110_ord', 'cat90_ord', 'cat53_ord', 'cat69_ord', 'cat23_ord', 'cat4_ord', 'cat99_ord', 'cat79_ord', 'cat58_ord', 'cat114_ord', 'cat112_ord', 'cat70_ord', 'cat67_ord'] 89025.23502747485\n",
      "['cont1', 'cont2', 'cont3', 'cont4', 'cont5', 'cont6', 'cont7', 'cont8', 'cont9', 'cont10', 'cont14', 'cat5_ord', 'cat59_ord', 'cat87_ord', 'cat28_ord', 'cat45_ord', 'cat76_ord', 'cat39_ord', 'cat6_ord', 'cat102_ord', 'cat104_ord', 'cat7_ord', 'cat52_ord', 'cat11_ord', 'cat56_ord', 'cat89_ord', 'cat101_ord', 'cat22_ord', 'cat37_ord', 'cat71_ord', 'cat41_ord', 'cat74_ord', 'cat57_ord', 'cat1_ord', 'cat54_ord', 'cat42_ord', 'cat82_ord', 'cat73_ord', 'cat108_ord', 'cat83_ord', 'cat109_ord', 'cat13_ord', 'cat63_ord', 'cat21_ord', 'cat2_ord', 'cat18_ord', 'cat93_ord', 'cat9_ord', 'cat25_ord', 'cat66_ord', 'cat60_ord', 'cat43_ord', 'cat50_ord', 'cat105_ord', 'cat3_ord', 'cat78_ord', 'cat110_ord', 'cat90_ord', 'cat53_ord', 'cat69_ord', 'cat23_ord', 'cat4_ord', 'cat99_ord', 'cat79_ord', 'cat58_ord', 'cat114_ord', 'cat112_ord', 'cat70_ord', 'cat67_ord', 'cat40_ord'] 90105.03330869689\n",
      "['cont1', 'cont2', 'cont3', 'cont4', 'cont5', 'cont6', 'cont7', 'cont8', 'cont9', 'cont10', 'cont14', 'cat5_ord', 'cat59_ord', 'cat87_ord', 'cat28_ord', 'cat45_ord', 'cat76_ord', 'cat39_ord', 'cat6_ord', 'cat102_ord', 'cat104_ord', 'cat7_ord', 'cat52_ord', 'cat11_ord', 'cat56_ord', 'cat89_ord', 'cat101_ord', 'cat22_ord', 'cat37_ord', 'cat71_ord', 'cat41_ord', 'cat74_ord', 'cat57_ord', 'cat1_ord', 'cat54_ord', 'cat42_ord', 'cat82_ord', 'cat73_ord', 'cat108_ord', 'cat83_ord', 'cat109_ord', 'cat13_ord', 'cat63_ord', 'cat21_ord', 'cat2_ord', 'cat18_ord', 'cat93_ord', 'cat9_ord', 'cat25_ord', 'cat66_ord', 'cat60_ord', 'cat43_ord', 'cat50_ord', 'cat105_ord', 'cat3_ord', 'cat78_ord', 'cat110_ord', 'cat90_ord', 'cat53_ord', 'cat69_ord', 'cat23_ord', 'cat4_ord', 'cat99_ord', 'cat79_ord', 'cat58_ord', 'cat114_ord', 'cat112_ord', 'cat70_ord', 'cat67_ord', 'cat40_ord', 'cat30_ord'] 94217.64631503899\n"
     ]
    },
    {
     "name": "stdout",
     "output_type": "stream",
     "text": [
      "['cont1', 'cont2', 'cont3', 'cont4', 'cont5', 'cont6', 'cont7', 'cont8', 'cont9', 'cont10', 'cont14', 'cat5_ord', 'cat59_ord', 'cat87_ord', 'cat28_ord', 'cat45_ord', 'cat76_ord', 'cat39_ord', 'cat6_ord', 'cat102_ord', 'cat104_ord', 'cat7_ord', 'cat52_ord', 'cat11_ord', 'cat56_ord', 'cat89_ord', 'cat101_ord', 'cat22_ord', 'cat37_ord', 'cat71_ord', 'cat41_ord', 'cat74_ord', 'cat57_ord', 'cat1_ord', 'cat54_ord', 'cat42_ord', 'cat82_ord', 'cat73_ord', 'cat108_ord', 'cat83_ord', 'cat109_ord', 'cat13_ord', 'cat63_ord', 'cat21_ord', 'cat2_ord', 'cat18_ord', 'cat93_ord', 'cat9_ord', 'cat25_ord', 'cat66_ord', 'cat60_ord', 'cat43_ord', 'cat50_ord', 'cat105_ord', 'cat3_ord', 'cat78_ord', 'cat110_ord', 'cat90_ord', 'cat53_ord', 'cat69_ord', 'cat23_ord', 'cat4_ord', 'cat99_ord', 'cat79_ord', 'cat58_ord', 'cat114_ord', 'cat112_ord', 'cat70_ord', 'cat67_ord', 'cat40_ord', 'cat30_ord', 'cat36_ord'] 97081.2065659474\n",
      "['cont1', 'cont2', 'cont3', 'cont4', 'cont5', 'cont6', 'cont7', 'cont8', 'cont9', 'cont10', 'cont14', 'cat5_ord', 'cat59_ord', 'cat87_ord', 'cat28_ord', 'cat45_ord', 'cat76_ord', 'cat39_ord', 'cat6_ord', 'cat102_ord', 'cat104_ord', 'cat7_ord', 'cat52_ord', 'cat11_ord', 'cat56_ord', 'cat89_ord', 'cat101_ord', 'cat22_ord', 'cat37_ord', 'cat71_ord', 'cat41_ord', 'cat74_ord', 'cat57_ord', 'cat1_ord', 'cat54_ord', 'cat42_ord', 'cat82_ord', 'cat73_ord', 'cat108_ord', 'cat83_ord', 'cat109_ord', 'cat13_ord', 'cat63_ord', 'cat21_ord', 'cat2_ord', 'cat18_ord', 'cat93_ord', 'cat9_ord', 'cat25_ord', 'cat66_ord', 'cat60_ord', 'cat43_ord', 'cat50_ord', 'cat105_ord', 'cat3_ord', 'cat78_ord', 'cat110_ord', 'cat90_ord', 'cat53_ord', 'cat69_ord', 'cat23_ord', 'cat4_ord', 'cat99_ord', 'cat79_ord', 'cat58_ord', 'cat114_ord', 'cat112_ord', 'cat70_ord', 'cat67_ord', 'cat40_ord', 'cat30_ord', 'cat36_ord', 'cat12_ord'] 88898.29297715561\n",
      "['cont1', 'cont2', 'cont3', 'cont4', 'cont5', 'cont6', 'cont7', 'cont8', 'cont9', 'cont10', 'cont14', 'cat5_ord', 'cat59_ord', 'cat87_ord', 'cat28_ord', 'cat45_ord', 'cat76_ord', 'cat39_ord', 'cat6_ord', 'cat102_ord', 'cat104_ord', 'cat7_ord', 'cat52_ord', 'cat11_ord', 'cat56_ord', 'cat89_ord', 'cat101_ord', 'cat22_ord', 'cat37_ord', 'cat71_ord', 'cat41_ord', 'cat74_ord', 'cat57_ord', 'cat1_ord', 'cat54_ord', 'cat42_ord', 'cat82_ord', 'cat73_ord', 'cat108_ord', 'cat83_ord', 'cat109_ord', 'cat13_ord', 'cat63_ord', 'cat21_ord', 'cat2_ord', 'cat18_ord', 'cat93_ord', 'cat9_ord', 'cat25_ord', 'cat66_ord', 'cat60_ord', 'cat43_ord', 'cat50_ord', 'cat105_ord', 'cat3_ord', 'cat78_ord', 'cat110_ord', 'cat90_ord', 'cat53_ord', 'cat69_ord', 'cat23_ord', 'cat4_ord', 'cat99_ord', 'cat79_ord', 'cat58_ord', 'cat114_ord', 'cat112_ord', 'cat70_ord', 'cat67_ord', 'cat40_ord', 'cat30_ord', 'cat36_ord', 'cat12_ord', 'cat75_ord'] 86436.30038558366\n"
     ]
    },
    {
     "name": "stderr",
     "output_type": "stream",
     "text": [
      "/Library/Frameworks/Python.framework/Versions/3.7/lib/python3.7/site-packages/statsmodels/genmod/families/links.py:521: RuntimeWarning: overflow encountered in exp\n",
      "  return np.exp(z)\n",
      "/Library/Frameworks/Python.framework/Versions/3.7/lib/python3.7/site-packages/statsmodels/genmod/families/family.py:697: RuntimeWarning: divide by zero encountered in true_divide\n",
      "  endog_mu = self._clean(endog / mu)\n",
      "/Library/Frameworks/Python.framework/Versions/3.7/lib/python3.7/site-packages/statsmodels/genmod/families/family.py:698: RuntimeWarning: divide by zero encountered in true_divide\n",
      "  resid_dev = -np.log(endog_mu) + (endog - mu) / mu\n",
      "/Library/Frameworks/Python.framework/Versions/3.7/lib/python3.7/site-packages/statsmodels/genmod/families/family.py:698: RuntimeWarning: invalid value encountered in true_divide\n",
      "  resid_dev = -np.log(endog_mu) + (endog - mu) / mu\n",
      "/Library/Frameworks/Python.framework/Versions/3.7/lib/python3.7/site-packages/statsmodels/genmod/families/family.py:698: RuntimeWarning: invalid value encountered in add\n",
      "  resid_dev = -np.log(endog_mu) + (endog - mu) / mu\n",
      "/Library/Frameworks/Python.framework/Versions/3.7/lib/python3.7/site-packages/statsmodels/genmod/generalized_linear_model.py:774: RuntimeWarning: divide by zero encountered in true_divide\n",
      "  return np.sum(resid / self.family.variance(mu)) / self.df_resid\n",
      "/Library/Frameworks/Python.framework/Versions/3.7/lib/python3.7/site-packages/statsmodels/genmod/generalized_linear_model.py:774: RuntimeWarning: invalid value encountered in true_divide\n",
      "  return np.sum(resid / self.family.variance(mu)) / self.df_resid\n",
      "/Library/Frameworks/Python.framework/Versions/3.7/lib/python3.7/site-packages/statsmodels/genmod/families/family.py:134: RuntimeWarning: invalid value encountered in multiply\n",
      "  return 1. / (self.link.deriv(mu)**2 * self.variance(mu))\n",
      "/Library/Frameworks/Python.framework/Versions/3.7/lib/python3.7/site-packages/statsmodels/genmod/families/family.py:134: RuntimeWarning: divide by zero encountered in true_divide\n",
      "  return 1. / (self.link.deriv(mu)**2 * self.variance(mu))\n",
      "/Library/Frameworks/Python.framework/Versions/3.7/lib/python3.7/site-packages/statsmodels/genmod/generalized_linear_model.py:1163: RuntimeWarning: invalid value encountered in multiply\n",
      "  - self._offset_exposure)\n"
     ]
    },
    {
     "name": "stdout",
     "output_type": "stream",
     "text": [
      "skipped cat77_ord\n",
      "['cont1', 'cont2', 'cont3', 'cont4', 'cont5', 'cont6', 'cont7', 'cont8', 'cont9', 'cont10', 'cont14', 'cat5_ord', 'cat59_ord', 'cat87_ord', 'cat28_ord', 'cat45_ord', 'cat76_ord', 'cat39_ord', 'cat6_ord', 'cat102_ord', 'cat104_ord', 'cat7_ord', 'cat52_ord', 'cat11_ord', 'cat56_ord', 'cat89_ord', 'cat101_ord', 'cat22_ord', 'cat37_ord', 'cat71_ord', 'cat41_ord', 'cat74_ord', 'cat57_ord', 'cat1_ord', 'cat54_ord', 'cat42_ord', 'cat82_ord', 'cat73_ord', 'cat108_ord', 'cat83_ord', 'cat109_ord', 'cat13_ord', 'cat63_ord', 'cat21_ord', 'cat2_ord', 'cat18_ord', 'cat93_ord', 'cat9_ord', 'cat25_ord', 'cat66_ord', 'cat60_ord', 'cat43_ord', 'cat50_ord', 'cat105_ord', 'cat3_ord', 'cat78_ord', 'cat110_ord', 'cat90_ord', 'cat53_ord', 'cat69_ord', 'cat23_ord', 'cat4_ord', 'cat99_ord', 'cat79_ord', 'cat58_ord', 'cat114_ord', 'cat112_ord', 'cat70_ord', 'cat67_ord', 'cat40_ord', 'cat30_ord', 'cat36_ord', 'cat12_ord', 'cat75_ord', 'cat88_ord'] 85509.04325980027\n",
      "['cont1', 'cont2', 'cont3', 'cont4', 'cont5', 'cont6', 'cont7', 'cont8', 'cont9', 'cont10', 'cont14', 'cat5_ord', 'cat59_ord', 'cat87_ord', 'cat28_ord', 'cat45_ord', 'cat76_ord', 'cat39_ord', 'cat6_ord', 'cat102_ord', 'cat104_ord', 'cat7_ord', 'cat52_ord', 'cat11_ord', 'cat56_ord', 'cat89_ord', 'cat101_ord', 'cat22_ord', 'cat37_ord', 'cat71_ord', 'cat41_ord', 'cat74_ord', 'cat57_ord', 'cat1_ord', 'cat54_ord', 'cat42_ord', 'cat82_ord', 'cat73_ord', 'cat108_ord', 'cat83_ord', 'cat109_ord', 'cat13_ord', 'cat63_ord', 'cat21_ord', 'cat2_ord', 'cat18_ord', 'cat93_ord', 'cat9_ord', 'cat25_ord', 'cat66_ord', 'cat60_ord', 'cat43_ord', 'cat50_ord', 'cat105_ord', 'cat3_ord', 'cat78_ord', 'cat110_ord', 'cat90_ord', 'cat53_ord', 'cat69_ord', 'cat23_ord', 'cat4_ord', 'cat99_ord', 'cat79_ord', 'cat58_ord', 'cat114_ord', 'cat112_ord', 'cat70_ord', 'cat67_ord', 'cat40_ord', 'cat30_ord', 'cat36_ord', 'cat12_ord', 'cat75_ord', 'cat88_ord', 'cat92_ord'] 83527.69750521421\n",
      "['cont1', 'cont2', 'cont3', 'cont4', 'cont5', 'cont6', 'cont7', 'cont8', 'cont9', 'cont10', 'cont14', 'cat5_ord', 'cat59_ord', 'cat87_ord', 'cat28_ord', 'cat45_ord', 'cat76_ord', 'cat39_ord', 'cat6_ord', 'cat102_ord', 'cat104_ord', 'cat7_ord', 'cat52_ord', 'cat11_ord', 'cat56_ord', 'cat89_ord', 'cat101_ord', 'cat22_ord', 'cat37_ord', 'cat71_ord', 'cat41_ord', 'cat74_ord', 'cat57_ord', 'cat1_ord', 'cat54_ord', 'cat42_ord', 'cat82_ord', 'cat73_ord', 'cat108_ord', 'cat83_ord', 'cat109_ord', 'cat13_ord', 'cat63_ord', 'cat21_ord', 'cat2_ord', 'cat18_ord', 'cat93_ord', 'cat9_ord', 'cat25_ord', 'cat66_ord', 'cat60_ord', 'cat43_ord', 'cat50_ord', 'cat105_ord', 'cat3_ord', 'cat78_ord', 'cat110_ord', 'cat90_ord', 'cat53_ord', 'cat69_ord', 'cat23_ord', 'cat4_ord', 'cat99_ord', 'cat79_ord', 'cat58_ord', 'cat114_ord', 'cat112_ord', 'cat70_ord', 'cat67_ord', 'cat40_ord', 'cat30_ord', 'cat36_ord', 'cat12_ord', 'cat75_ord', 'cat88_ord', 'cat92_ord', 'cat95_ord'] 61181.53628986371\n",
      "['cont1', 'cont2', 'cont3', 'cont4', 'cont5', 'cont6', 'cont7', 'cont8', 'cont9', 'cont10', 'cont14', 'cat5_ord', 'cat59_ord', 'cat87_ord', 'cat28_ord', 'cat45_ord', 'cat76_ord', 'cat39_ord', 'cat6_ord', 'cat102_ord', 'cat104_ord', 'cat7_ord', 'cat52_ord', 'cat11_ord', 'cat56_ord', 'cat89_ord', 'cat101_ord', 'cat22_ord', 'cat37_ord', 'cat71_ord', 'cat41_ord', 'cat74_ord', 'cat57_ord', 'cat1_ord', 'cat54_ord', 'cat42_ord', 'cat82_ord', 'cat73_ord', 'cat108_ord', 'cat83_ord', 'cat109_ord', 'cat13_ord', 'cat63_ord', 'cat21_ord', 'cat2_ord', 'cat18_ord', 'cat93_ord', 'cat9_ord', 'cat25_ord', 'cat66_ord', 'cat60_ord', 'cat43_ord', 'cat50_ord', 'cat105_ord', 'cat3_ord', 'cat78_ord', 'cat110_ord', 'cat90_ord', 'cat53_ord', 'cat69_ord', 'cat23_ord', 'cat4_ord', 'cat99_ord', 'cat79_ord', 'cat58_ord', 'cat114_ord', 'cat112_ord', 'cat70_ord', 'cat67_ord', 'cat40_ord', 'cat30_ord', 'cat36_ord', 'cat12_ord', 'cat75_ord', 'cat88_ord', 'cat92_ord', 'cat95_ord', 'cat85_ord'] 24423.757397785364\n",
      "['cont1', 'cont2', 'cont3', 'cont4', 'cont5', 'cont6', 'cont7', 'cont8', 'cont9', 'cont10', 'cont14', 'cat5_ord', 'cat59_ord', 'cat87_ord', 'cat28_ord', 'cat45_ord', 'cat76_ord', 'cat39_ord', 'cat6_ord', 'cat102_ord', 'cat104_ord', 'cat7_ord', 'cat52_ord', 'cat11_ord', 'cat56_ord', 'cat89_ord', 'cat101_ord', 'cat22_ord', 'cat37_ord', 'cat71_ord', 'cat41_ord', 'cat74_ord', 'cat57_ord', 'cat1_ord', 'cat54_ord', 'cat42_ord', 'cat82_ord', 'cat73_ord', 'cat108_ord', 'cat83_ord', 'cat109_ord', 'cat13_ord', 'cat63_ord', 'cat21_ord', 'cat2_ord', 'cat18_ord', 'cat93_ord', 'cat9_ord', 'cat25_ord', 'cat66_ord', 'cat60_ord', 'cat43_ord', 'cat50_ord', 'cat105_ord', 'cat3_ord', 'cat78_ord', 'cat110_ord', 'cat90_ord', 'cat53_ord', 'cat69_ord', 'cat23_ord', 'cat4_ord', 'cat99_ord', 'cat79_ord', 'cat58_ord', 'cat114_ord', 'cat112_ord', 'cat70_ord', 'cat67_ord', 'cat40_ord', 'cat30_ord', 'cat36_ord', 'cat12_ord', 'cat75_ord', 'cat88_ord', 'cat92_ord', 'cat95_ord', 'cat85_ord', 'cat64_ord'] 24056.38474166621\n",
      "['cont1', 'cont2', 'cont3', 'cont4', 'cont5', 'cont6', 'cont7', 'cont8', 'cont9', 'cont10', 'cont14', 'cat5_ord', 'cat59_ord', 'cat87_ord', 'cat28_ord', 'cat45_ord', 'cat76_ord', 'cat39_ord', 'cat6_ord', 'cat102_ord', 'cat104_ord', 'cat7_ord', 'cat52_ord', 'cat11_ord', 'cat56_ord', 'cat89_ord', 'cat101_ord', 'cat22_ord', 'cat37_ord', 'cat71_ord', 'cat41_ord', 'cat74_ord', 'cat57_ord', 'cat1_ord', 'cat54_ord', 'cat42_ord', 'cat82_ord', 'cat73_ord', 'cat108_ord', 'cat83_ord', 'cat109_ord', 'cat13_ord', 'cat63_ord', 'cat21_ord', 'cat2_ord', 'cat18_ord', 'cat93_ord', 'cat9_ord', 'cat25_ord', 'cat66_ord', 'cat60_ord', 'cat43_ord', 'cat50_ord', 'cat105_ord', 'cat3_ord', 'cat78_ord', 'cat110_ord', 'cat90_ord', 'cat53_ord', 'cat69_ord', 'cat23_ord', 'cat4_ord', 'cat99_ord', 'cat79_ord', 'cat58_ord', 'cat114_ord', 'cat112_ord', 'cat70_ord', 'cat67_ord', 'cat40_ord', 'cat30_ord', 'cat36_ord', 'cat12_ord', 'cat75_ord', 'cat88_ord', 'cat92_ord', 'cat95_ord', 'cat85_ord', 'cat64_ord', 'cat47_ord'] 22592.46921225742\n",
      "['cont1', 'cont2', 'cont3', 'cont4', 'cont5', 'cont6', 'cont7', 'cont8', 'cont9', 'cont10', 'cont14', 'cat5_ord', 'cat59_ord', 'cat87_ord', 'cat28_ord', 'cat45_ord', 'cat76_ord', 'cat39_ord', 'cat6_ord', 'cat102_ord', 'cat104_ord', 'cat7_ord', 'cat52_ord', 'cat11_ord', 'cat56_ord', 'cat89_ord', 'cat101_ord', 'cat22_ord', 'cat37_ord', 'cat71_ord', 'cat41_ord', 'cat74_ord', 'cat57_ord', 'cat1_ord', 'cat54_ord', 'cat42_ord', 'cat82_ord', 'cat73_ord', 'cat108_ord', 'cat83_ord', 'cat109_ord', 'cat13_ord', 'cat63_ord', 'cat21_ord', 'cat2_ord', 'cat18_ord', 'cat93_ord', 'cat9_ord', 'cat25_ord', 'cat66_ord', 'cat60_ord', 'cat43_ord', 'cat50_ord', 'cat105_ord', 'cat3_ord', 'cat78_ord', 'cat110_ord', 'cat90_ord', 'cat53_ord', 'cat69_ord', 'cat23_ord', 'cat4_ord', 'cat99_ord', 'cat79_ord', 'cat58_ord', 'cat114_ord', 'cat112_ord', 'cat70_ord', 'cat67_ord', 'cat40_ord', 'cat30_ord', 'cat36_ord', 'cat12_ord', 'cat75_ord', 'cat88_ord', 'cat92_ord', 'cat95_ord', 'cat85_ord', 'cat64_ord', 'cat47_ord', 'cat26_ord'] 23921.957086375434\n",
      "['cont1', 'cont2', 'cont3', 'cont4', 'cont5', 'cont6', 'cont7', 'cont8', 'cont9', 'cont10', 'cont14', 'cat5_ord', 'cat59_ord', 'cat87_ord', 'cat28_ord', 'cat45_ord', 'cat76_ord', 'cat39_ord', 'cat6_ord', 'cat102_ord', 'cat104_ord', 'cat7_ord', 'cat52_ord', 'cat11_ord', 'cat56_ord', 'cat89_ord', 'cat101_ord', 'cat22_ord', 'cat37_ord', 'cat71_ord', 'cat41_ord', 'cat74_ord', 'cat57_ord', 'cat1_ord', 'cat54_ord', 'cat42_ord', 'cat82_ord', 'cat73_ord', 'cat108_ord', 'cat83_ord', 'cat109_ord', 'cat13_ord', 'cat63_ord', 'cat21_ord', 'cat2_ord', 'cat18_ord', 'cat93_ord', 'cat9_ord', 'cat25_ord', 'cat66_ord', 'cat60_ord', 'cat43_ord', 'cat50_ord', 'cat105_ord', 'cat3_ord', 'cat78_ord', 'cat110_ord', 'cat90_ord', 'cat53_ord', 'cat69_ord', 'cat23_ord', 'cat4_ord', 'cat99_ord', 'cat79_ord', 'cat58_ord', 'cat114_ord', 'cat112_ord', 'cat70_ord', 'cat67_ord', 'cat40_ord', 'cat30_ord', 'cat36_ord', 'cat12_ord', 'cat75_ord', 'cat88_ord', 'cat92_ord', 'cat95_ord', 'cat85_ord', 'cat64_ord', 'cat47_ord', 'cat26_ord', 'cat32_ord'] 24956.6407641532\n",
      "['cont1', 'cont2', 'cont3', 'cont4', 'cont5', 'cont6', 'cont7', 'cont8', 'cont9', 'cont10', 'cont14', 'cat5_ord', 'cat59_ord', 'cat87_ord', 'cat28_ord', 'cat45_ord', 'cat76_ord', 'cat39_ord', 'cat6_ord', 'cat102_ord', 'cat104_ord', 'cat7_ord', 'cat52_ord', 'cat11_ord', 'cat56_ord', 'cat89_ord', 'cat101_ord', 'cat22_ord', 'cat37_ord', 'cat71_ord', 'cat41_ord', 'cat74_ord', 'cat57_ord', 'cat1_ord', 'cat54_ord', 'cat42_ord', 'cat82_ord', 'cat73_ord', 'cat108_ord', 'cat83_ord', 'cat109_ord', 'cat13_ord', 'cat63_ord', 'cat21_ord', 'cat2_ord', 'cat18_ord', 'cat93_ord', 'cat9_ord', 'cat25_ord', 'cat66_ord', 'cat60_ord', 'cat43_ord', 'cat50_ord', 'cat105_ord', 'cat3_ord', 'cat78_ord', 'cat110_ord', 'cat90_ord', 'cat53_ord', 'cat69_ord', 'cat23_ord', 'cat4_ord', 'cat99_ord', 'cat79_ord', 'cat58_ord', 'cat114_ord', 'cat112_ord', 'cat70_ord', 'cat67_ord', 'cat40_ord', 'cat30_ord', 'cat36_ord', 'cat12_ord', 'cat75_ord', 'cat88_ord', 'cat92_ord', 'cat95_ord', 'cat85_ord', 'cat64_ord', 'cat47_ord', 'cat26_ord', 'cat32_ord', 'cat35_ord'] 24932.226787347943\n"
     ]
    },
    {
     "name": "stdout",
     "output_type": "stream",
     "text": [
      "['cont1', 'cont2', 'cont3', 'cont4', 'cont5', 'cont6', 'cont7', 'cont8', 'cont9', 'cont10', 'cont14', 'cat5_ord', 'cat59_ord', 'cat87_ord', 'cat28_ord', 'cat45_ord', 'cat76_ord', 'cat39_ord', 'cat6_ord', 'cat102_ord', 'cat104_ord', 'cat7_ord', 'cat52_ord', 'cat11_ord', 'cat56_ord', 'cat89_ord', 'cat101_ord', 'cat22_ord', 'cat37_ord', 'cat71_ord', 'cat41_ord', 'cat74_ord', 'cat57_ord', 'cat1_ord', 'cat54_ord', 'cat42_ord', 'cat82_ord', 'cat73_ord', 'cat108_ord', 'cat83_ord', 'cat109_ord', 'cat13_ord', 'cat63_ord', 'cat21_ord', 'cat2_ord', 'cat18_ord', 'cat93_ord', 'cat9_ord', 'cat25_ord', 'cat66_ord', 'cat60_ord', 'cat43_ord', 'cat50_ord', 'cat105_ord', 'cat3_ord', 'cat78_ord', 'cat110_ord', 'cat90_ord', 'cat53_ord', 'cat69_ord', 'cat23_ord', 'cat4_ord', 'cat99_ord', 'cat79_ord', 'cat58_ord', 'cat114_ord', 'cat112_ord', 'cat70_ord', 'cat67_ord', 'cat40_ord', 'cat30_ord', 'cat36_ord', 'cat12_ord', 'cat75_ord', 'cat88_ord', 'cat92_ord', 'cat95_ord', 'cat85_ord', 'cat64_ord', 'cat47_ord', 'cat26_ord', 'cat32_ord', 'cat35_ord', 'cat46_ord'] 26999.80870670337\n",
      "['cont1', 'cont2', 'cont3', 'cont4', 'cont5', 'cont6', 'cont7', 'cont8', 'cont9', 'cont10', 'cont14', 'cat5_ord', 'cat59_ord', 'cat87_ord', 'cat28_ord', 'cat45_ord', 'cat76_ord', 'cat39_ord', 'cat6_ord', 'cat102_ord', 'cat104_ord', 'cat7_ord', 'cat52_ord', 'cat11_ord', 'cat56_ord', 'cat89_ord', 'cat101_ord', 'cat22_ord', 'cat37_ord', 'cat71_ord', 'cat41_ord', 'cat74_ord', 'cat57_ord', 'cat1_ord', 'cat54_ord', 'cat42_ord', 'cat82_ord', 'cat73_ord', 'cat108_ord', 'cat83_ord', 'cat109_ord', 'cat13_ord', 'cat63_ord', 'cat21_ord', 'cat2_ord', 'cat18_ord', 'cat93_ord', 'cat9_ord', 'cat25_ord', 'cat66_ord', 'cat60_ord', 'cat43_ord', 'cat50_ord', 'cat105_ord', 'cat3_ord', 'cat78_ord', 'cat110_ord', 'cat90_ord', 'cat53_ord', 'cat69_ord', 'cat23_ord', 'cat4_ord', 'cat99_ord', 'cat79_ord', 'cat58_ord', 'cat114_ord', 'cat112_ord', 'cat70_ord', 'cat67_ord', 'cat40_ord', 'cat30_ord', 'cat36_ord', 'cat12_ord', 'cat75_ord', 'cat88_ord', 'cat92_ord', 'cat95_ord', 'cat85_ord', 'cat64_ord', 'cat47_ord', 'cat26_ord', 'cat32_ord', 'cat35_ord', 'cat46_ord', 'cat111_ord'] 27057.078449043438\n",
      "['cont1', 'cont2', 'cont3', 'cont4', 'cont5', 'cont6', 'cont7', 'cont8', 'cont9', 'cont10', 'cont14', 'cat5_ord', 'cat59_ord', 'cat87_ord', 'cat28_ord', 'cat45_ord', 'cat76_ord', 'cat39_ord', 'cat6_ord', 'cat102_ord', 'cat104_ord', 'cat7_ord', 'cat52_ord', 'cat11_ord', 'cat56_ord', 'cat89_ord', 'cat101_ord', 'cat22_ord', 'cat37_ord', 'cat71_ord', 'cat41_ord', 'cat74_ord', 'cat57_ord', 'cat1_ord', 'cat54_ord', 'cat42_ord', 'cat82_ord', 'cat73_ord', 'cat108_ord', 'cat83_ord', 'cat109_ord', 'cat13_ord', 'cat63_ord', 'cat21_ord', 'cat2_ord', 'cat18_ord', 'cat93_ord', 'cat9_ord', 'cat25_ord', 'cat66_ord', 'cat60_ord', 'cat43_ord', 'cat50_ord', 'cat105_ord', 'cat3_ord', 'cat78_ord', 'cat110_ord', 'cat90_ord', 'cat53_ord', 'cat69_ord', 'cat23_ord', 'cat4_ord', 'cat99_ord', 'cat79_ord', 'cat58_ord', 'cat114_ord', 'cat112_ord', 'cat70_ord', 'cat67_ord', 'cat40_ord', 'cat30_ord', 'cat36_ord', 'cat12_ord', 'cat75_ord', 'cat88_ord', 'cat92_ord', 'cat95_ord', 'cat85_ord', 'cat64_ord', 'cat47_ord', 'cat26_ord', 'cat32_ord', 'cat35_ord', 'cat46_ord', 'cat111_ord', 'cat61_ord'] 27121.438281304952\n",
      "['cont1', 'cont2', 'cont3', 'cont4', 'cont5', 'cont6', 'cont7', 'cont8', 'cont9', 'cont10', 'cont14', 'cat5_ord', 'cat59_ord', 'cat87_ord', 'cat28_ord', 'cat45_ord', 'cat76_ord', 'cat39_ord', 'cat6_ord', 'cat102_ord', 'cat104_ord', 'cat7_ord', 'cat52_ord', 'cat11_ord', 'cat56_ord', 'cat89_ord', 'cat101_ord', 'cat22_ord', 'cat37_ord', 'cat71_ord', 'cat41_ord', 'cat74_ord', 'cat57_ord', 'cat1_ord', 'cat54_ord', 'cat42_ord', 'cat82_ord', 'cat73_ord', 'cat108_ord', 'cat83_ord', 'cat109_ord', 'cat13_ord', 'cat63_ord', 'cat21_ord', 'cat2_ord', 'cat18_ord', 'cat93_ord', 'cat9_ord', 'cat25_ord', 'cat66_ord', 'cat60_ord', 'cat43_ord', 'cat50_ord', 'cat105_ord', 'cat3_ord', 'cat78_ord', 'cat110_ord', 'cat90_ord', 'cat53_ord', 'cat69_ord', 'cat23_ord', 'cat4_ord', 'cat99_ord', 'cat79_ord', 'cat58_ord', 'cat114_ord', 'cat112_ord', 'cat70_ord', 'cat67_ord', 'cat40_ord', 'cat30_ord', 'cat36_ord', 'cat12_ord', 'cat75_ord', 'cat88_ord', 'cat92_ord', 'cat95_ord', 'cat85_ord', 'cat64_ord', 'cat47_ord', 'cat26_ord', 'cat32_ord', 'cat35_ord', 'cat46_ord', 'cat111_ord', 'cat61_ord', 'cat81_ord'] 47573.65070316812\n",
      "['cont1', 'cont2', 'cont3', 'cont4', 'cont5', 'cont6', 'cont7', 'cont8', 'cont9', 'cont10', 'cont14', 'cat5_ord', 'cat59_ord', 'cat87_ord', 'cat28_ord', 'cat45_ord', 'cat76_ord', 'cat39_ord', 'cat6_ord', 'cat102_ord', 'cat104_ord', 'cat7_ord', 'cat52_ord', 'cat11_ord', 'cat56_ord', 'cat89_ord', 'cat101_ord', 'cat22_ord', 'cat37_ord', 'cat71_ord', 'cat41_ord', 'cat74_ord', 'cat57_ord', 'cat1_ord', 'cat54_ord', 'cat42_ord', 'cat82_ord', 'cat73_ord', 'cat108_ord', 'cat83_ord', 'cat109_ord', 'cat13_ord', 'cat63_ord', 'cat21_ord', 'cat2_ord', 'cat18_ord', 'cat93_ord', 'cat9_ord', 'cat25_ord', 'cat66_ord', 'cat60_ord', 'cat43_ord', 'cat50_ord', 'cat105_ord', 'cat3_ord', 'cat78_ord', 'cat110_ord', 'cat90_ord', 'cat53_ord', 'cat69_ord', 'cat23_ord', 'cat4_ord', 'cat99_ord', 'cat79_ord', 'cat58_ord', 'cat114_ord', 'cat112_ord', 'cat70_ord', 'cat67_ord', 'cat40_ord', 'cat30_ord', 'cat36_ord', 'cat12_ord', 'cat75_ord', 'cat88_ord', 'cat92_ord', 'cat95_ord', 'cat85_ord', 'cat64_ord', 'cat47_ord', 'cat26_ord', 'cat32_ord', 'cat35_ord', 'cat46_ord', 'cat111_ord', 'cat61_ord', 'cat81_ord', 'cat44_ord'] 43812.805173820736\n",
      "['cont1', 'cont2', 'cont3', 'cont4', 'cont5', 'cont6', 'cont7', 'cont8', 'cont9', 'cont10', 'cont14', 'cat5_ord', 'cat59_ord', 'cat87_ord', 'cat28_ord', 'cat45_ord', 'cat76_ord', 'cat39_ord', 'cat6_ord', 'cat102_ord', 'cat104_ord', 'cat7_ord', 'cat52_ord', 'cat11_ord', 'cat56_ord', 'cat89_ord', 'cat101_ord', 'cat22_ord', 'cat37_ord', 'cat71_ord', 'cat41_ord', 'cat74_ord', 'cat57_ord', 'cat1_ord', 'cat54_ord', 'cat42_ord', 'cat82_ord', 'cat73_ord', 'cat108_ord', 'cat83_ord', 'cat109_ord', 'cat13_ord', 'cat63_ord', 'cat21_ord', 'cat2_ord', 'cat18_ord', 'cat93_ord', 'cat9_ord', 'cat25_ord', 'cat66_ord', 'cat60_ord', 'cat43_ord', 'cat50_ord', 'cat105_ord', 'cat3_ord', 'cat78_ord', 'cat110_ord', 'cat90_ord', 'cat53_ord', 'cat69_ord', 'cat23_ord', 'cat4_ord', 'cat99_ord', 'cat79_ord', 'cat58_ord', 'cat114_ord', 'cat112_ord', 'cat70_ord', 'cat67_ord', 'cat40_ord', 'cat30_ord', 'cat36_ord', 'cat12_ord', 'cat75_ord', 'cat88_ord', 'cat92_ord', 'cat95_ord', 'cat85_ord', 'cat64_ord', 'cat47_ord', 'cat26_ord', 'cat32_ord', 'cat35_ord', 'cat46_ord', 'cat111_ord', 'cat61_ord', 'cat81_ord', 'cat44_ord', 'cat97_ord'] 32526.365557015022\n",
      "['cont1', 'cont2', 'cont3', 'cont4', 'cont5', 'cont6', 'cont7', 'cont8', 'cont9', 'cont10', 'cont14', 'cat5_ord', 'cat59_ord', 'cat87_ord', 'cat28_ord', 'cat45_ord', 'cat76_ord', 'cat39_ord', 'cat6_ord', 'cat102_ord', 'cat104_ord', 'cat7_ord', 'cat52_ord', 'cat11_ord', 'cat56_ord', 'cat89_ord', 'cat101_ord', 'cat22_ord', 'cat37_ord', 'cat71_ord', 'cat41_ord', 'cat74_ord', 'cat57_ord', 'cat1_ord', 'cat54_ord', 'cat42_ord', 'cat82_ord', 'cat73_ord', 'cat108_ord', 'cat83_ord', 'cat109_ord', 'cat13_ord', 'cat63_ord', 'cat21_ord', 'cat2_ord', 'cat18_ord', 'cat93_ord', 'cat9_ord', 'cat25_ord', 'cat66_ord', 'cat60_ord', 'cat43_ord', 'cat50_ord', 'cat105_ord', 'cat3_ord', 'cat78_ord', 'cat110_ord', 'cat90_ord', 'cat53_ord', 'cat69_ord', 'cat23_ord', 'cat4_ord', 'cat99_ord', 'cat79_ord', 'cat58_ord', 'cat114_ord', 'cat112_ord', 'cat70_ord', 'cat67_ord', 'cat40_ord', 'cat30_ord', 'cat36_ord', 'cat12_ord', 'cat75_ord', 'cat88_ord', 'cat92_ord', 'cat95_ord', 'cat85_ord', 'cat64_ord', 'cat47_ord', 'cat26_ord', 'cat32_ord', 'cat35_ord', 'cat46_ord', 'cat111_ord', 'cat61_ord', 'cat81_ord', 'cat44_ord', 'cat97_ord', 'cat94_ord'] 30346.10377338721\n",
      "['cont1', 'cont2', 'cont3', 'cont4', 'cont5', 'cont6', 'cont7', 'cont8', 'cont9', 'cont10', 'cont14', 'cat5_ord', 'cat59_ord', 'cat87_ord', 'cat28_ord', 'cat45_ord', 'cat76_ord', 'cat39_ord', 'cat6_ord', 'cat102_ord', 'cat104_ord', 'cat7_ord', 'cat52_ord', 'cat11_ord', 'cat56_ord', 'cat89_ord', 'cat101_ord', 'cat22_ord', 'cat37_ord', 'cat71_ord', 'cat41_ord', 'cat74_ord', 'cat57_ord', 'cat1_ord', 'cat54_ord', 'cat42_ord', 'cat82_ord', 'cat73_ord', 'cat108_ord', 'cat83_ord', 'cat109_ord', 'cat13_ord', 'cat63_ord', 'cat21_ord', 'cat2_ord', 'cat18_ord', 'cat93_ord', 'cat9_ord', 'cat25_ord', 'cat66_ord', 'cat60_ord', 'cat43_ord', 'cat50_ord', 'cat105_ord', 'cat3_ord', 'cat78_ord', 'cat110_ord', 'cat90_ord', 'cat53_ord', 'cat69_ord', 'cat23_ord', 'cat4_ord', 'cat99_ord', 'cat79_ord', 'cat58_ord', 'cat114_ord', 'cat112_ord', 'cat70_ord', 'cat67_ord', 'cat40_ord', 'cat30_ord', 'cat36_ord', 'cat12_ord', 'cat75_ord', 'cat88_ord', 'cat92_ord', 'cat95_ord', 'cat85_ord', 'cat64_ord', 'cat47_ord', 'cat26_ord', 'cat32_ord', 'cat35_ord', 'cat46_ord', 'cat111_ord', 'cat61_ord', 'cat81_ord', 'cat44_ord', 'cat97_ord', 'cat94_ord', 'cat29_ord'] 30085.85168145673\n"
     ]
    },
    {
     "name": "stdout",
     "output_type": "stream",
     "text": [
      "['cont1', 'cont2', 'cont3', 'cont4', 'cont5', 'cont6', 'cont7', 'cont8', 'cont9', 'cont10', 'cont14', 'cat5_ord', 'cat59_ord', 'cat87_ord', 'cat28_ord', 'cat45_ord', 'cat76_ord', 'cat39_ord', 'cat6_ord', 'cat102_ord', 'cat104_ord', 'cat7_ord', 'cat52_ord', 'cat11_ord', 'cat56_ord', 'cat89_ord', 'cat101_ord', 'cat22_ord', 'cat37_ord', 'cat71_ord', 'cat41_ord', 'cat74_ord', 'cat57_ord', 'cat1_ord', 'cat54_ord', 'cat42_ord', 'cat82_ord', 'cat73_ord', 'cat108_ord', 'cat83_ord', 'cat109_ord', 'cat13_ord', 'cat63_ord', 'cat21_ord', 'cat2_ord', 'cat18_ord', 'cat93_ord', 'cat9_ord', 'cat25_ord', 'cat66_ord', 'cat60_ord', 'cat43_ord', 'cat50_ord', 'cat105_ord', 'cat3_ord', 'cat78_ord', 'cat110_ord', 'cat90_ord', 'cat53_ord', 'cat69_ord', 'cat23_ord', 'cat4_ord', 'cat99_ord', 'cat79_ord', 'cat58_ord', 'cat114_ord', 'cat112_ord', 'cat70_ord', 'cat67_ord', 'cat40_ord', 'cat30_ord', 'cat36_ord', 'cat12_ord', 'cat75_ord', 'cat88_ord', 'cat92_ord', 'cat95_ord', 'cat85_ord', 'cat64_ord', 'cat47_ord', 'cat26_ord', 'cat32_ord', 'cat35_ord', 'cat46_ord', 'cat111_ord', 'cat61_ord', 'cat81_ord', 'cat44_ord', 'cat97_ord', 'cat94_ord', 'cat29_ord', 'cat55_ord'] 30106.993037025597\n",
      "['cont1', 'cont2', 'cont3', 'cont4', 'cont5', 'cont6', 'cont7', 'cont8', 'cont9', 'cont10', 'cont14', 'cat5_ord', 'cat59_ord', 'cat87_ord', 'cat28_ord', 'cat45_ord', 'cat76_ord', 'cat39_ord', 'cat6_ord', 'cat102_ord', 'cat104_ord', 'cat7_ord', 'cat52_ord', 'cat11_ord', 'cat56_ord', 'cat89_ord', 'cat101_ord', 'cat22_ord', 'cat37_ord', 'cat71_ord', 'cat41_ord', 'cat74_ord', 'cat57_ord', 'cat1_ord', 'cat54_ord', 'cat42_ord', 'cat82_ord', 'cat73_ord', 'cat108_ord', 'cat83_ord', 'cat109_ord', 'cat13_ord', 'cat63_ord', 'cat21_ord', 'cat2_ord', 'cat18_ord', 'cat93_ord', 'cat9_ord', 'cat25_ord', 'cat66_ord', 'cat60_ord', 'cat43_ord', 'cat50_ord', 'cat105_ord', 'cat3_ord', 'cat78_ord', 'cat110_ord', 'cat90_ord', 'cat53_ord', 'cat69_ord', 'cat23_ord', 'cat4_ord', 'cat99_ord', 'cat79_ord', 'cat58_ord', 'cat114_ord', 'cat112_ord', 'cat70_ord', 'cat67_ord', 'cat40_ord', 'cat30_ord', 'cat36_ord', 'cat12_ord', 'cat75_ord', 'cat88_ord', 'cat92_ord', 'cat95_ord', 'cat85_ord', 'cat64_ord', 'cat47_ord', 'cat26_ord', 'cat32_ord', 'cat35_ord', 'cat46_ord', 'cat111_ord', 'cat61_ord', 'cat81_ord', 'cat44_ord', 'cat97_ord', 'cat94_ord', 'cat29_ord', 'cat55_ord', 'cat49_ord'] 30445.190478185552\n",
      "['cont1', 'cont2', 'cont3', 'cont4', 'cont5', 'cont6', 'cont7', 'cont8', 'cont9', 'cont10', 'cont14', 'cat5_ord', 'cat59_ord', 'cat87_ord', 'cat28_ord', 'cat45_ord', 'cat76_ord', 'cat39_ord', 'cat6_ord', 'cat102_ord', 'cat104_ord', 'cat7_ord', 'cat52_ord', 'cat11_ord', 'cat56_ord', 'cat89_ord', 'cat101_ord', 'cat22_ord', 'cat37_ord', 'cat71_ord', 'cat41_ord', 'cat74_ord', 'cat57_ord', 'cat1_ord', 'cat54_ord', 'cat42_ord', 'cat82_ord', 'cat73_ord', 'cat108_ord', 'cat83_ord', 'cat109_ord', 'cat13_ord', 'cat63_ord', 'cat21_ord', 'cat2_ord', 'cat18_ord', 'cat93_ord', 'cat9_ord', 'cat25_ord', 'cat66_ord', 'cat60_ord', 'cat43_ord', 'cat50_ord', 'cat105_ord', 'cat3_ord', 'cat78_ord', 'cat110_ord', 'cat90_ord', 'cat53_ord', 'cat69_ord', 'cat23_ord', 'cat4_ord', 'cat99_ord', 'cat79_ord', 'cat58_ord', 'cat114_ord', 'cat112_ord', 'cat70_ord', 'cat67_ord', 'cat40_ord', 'cat30_ord', 'cat36_ord', 'cat12_ord', 'cat75_ord', 'cat88_ord', 'cat92_ord', 'cat95_ord', 'cat85_ord', 'cat64_ord', 'cat47_ord', 'cat26_ord', 'cat32_ord', 'cat35_ord', 'cat46_ord', 'cat111_ord', 'cat61_ord', 'cat81_ord', 'cat44_ord', 'cat97_ord', 'cat94_ord', 'cat29_ord', 'cat55_ord', 'cat49_ord', 'cat20_ord'] 30459.2373404691\n",
      "['cont1', 'cont2', 'cont3', 'cont4', 'cont5', 'cont6', 'cont7', 'cont8', 'cont9', 'cont10', 'cont14', 'cat5_ord', 'cat59_ord', 'cat87_ord', 'cat28_ord', 'cat45_ord', 'cat76_ord', 'cat39_ord', 'cat6_ord', 'cat102_ord', 'cat104_ord', 'cat7_ord', 'cat52_ord', 'cat11_ord', 'cat56_ord', 'cat89_ord', 'cat101_ord', 'cat22_ord', 'cat37_ord', 'cat71_ord', 'cat41_ord', 'cat74_ord', 'cat57_ord', 'cat1_ord', 'cat54_ord', 'cat42_ord', 'cat82_ord', 'cat73_ord', 'cat108_ord', 'cat83_ord', 'cat109_ord', 'cat13_ord', 'cat63_ord', 'cat21_ord', 'cat2_ord', 'cat18_ord', 'cat93_ord', 'cat9_ord', 'cat25_ord', 'cat66_ord', 'cat60_ord', 'cat43_ord', 'cat50_ord', 'cat105_ord', 'cat3_ord', 'cat78_ord', 'cat110_ord', 'cat90_ord', 'cat53_ord', 'cat69_ord', 'cat23_ord', 'cat4_ord', 'cat99_ord', 'cat79_ord', 'cat58_ord', 'cat114_ord', 'cat112_ord', 'cat70_ord', 'cat67_ord', 'cat40_ord', 'cat30_ord', 'cat36_ord', 'cat12_ord', 'cat75_ord', 'cat88_ord', 'cat92_ord', 'cat95_ord', 'cat85_ord', 'cat64_ord', 'cat47_ord', 'cat26_ord', 'cat32_ord', 'cat35_ord', 'cat46_ord', 'cat111_ord', 'cat61_ord', 'cat81_ord', 'cat44_ord', 'cat97_ord', 'cat94_ord', 'cat29_ord', 'cat55_ord', 'cat49_ord', 'cat20_ord', 'cat84_ord'] 25462.540193873247\n",
      "['cont1', 'cont2', 'cont3', 'cont4', 'cont5', 'cont6', 'cont7', 'cont8', 'cont9', 'cont10', 'cont14', 'cat5_ord', 'cat59_ord', 'cat87_ord', 'cat28_ord', 'cat45_ord', 'cat76_ord', 'cat39_ord', 'cat6_ord', 'cat102_ord', 'cat104_ord', 'cat7_ord', 'cat52_ord', 'cat11_ord', 'cat56_ord', 'cat89_ord', 'cat101_ord', 'cat22_ord', 'cat37_ord', 'cat71_ord', 'cat41_ord', 'cat74_ord', 'cat57_ord', 'cat1_ord', 'cat54_ord', 'cat42_ord', 'cat82_ord', 'cat73_ord', 'cat108_ord', 'cat83_ord', 'cat109_ord', 'cat13_ord', 'cat63_ord', 'cat21_ord', 'cat2_ord', 'cat18_ord', 'cat93_ord', 'cat9_ord', 'cat25_ord', 'cat66_ord', 'cat60_ord', 'cat43_ord', 'cat50_ord', 'cat105_ord', 'cat3_ord', 'cat78_ord', 'cat110_ord', 'cat90_ord', 'cat53_ord', 'cat69_ord', 'cat23_ord', 'cat4_ord', 'cat99_ord', 'cat79_ord', 'cat58_ord', 'cat114_ord', 'cat112_ord', 'cat70_ord', 'cat67_ord', 'cat40_ord', 'cat30_ord', 'cat36_ord', 'cat12_ord', 'cat75_ord', 'cat88_ord', 'cat92_ord', 'cat95_ord', 'cat85_ord', 'cat64_ord', 'cat47_ord', 'cat26_ord', 'cat32_ord', 'cat35_ord', 'cat46_ord', 'cat111_ord', 'cat61_ord', 'cat81_ord', 'cat44_ord', 'cat97_ord', 'cat94_ord', 'cat29_ord', 'cat55_ord', 'cat49_ord', 'cat20_ord', 'cat84_ord', 'cat8_ord'] 25172.13729746791\n",
      "['cont1', 'cont2', 'cont3', 'cont4', 'cont5', 'cont6', 'cont7', 'cont8', 'cont9', 'cont10', 'cont14', 'cat5_ord', 'cat59_ord', 'cat87_ord', 'cat28_ord', 'cat45_ord', 'cat76_ord', 'cat39_ord', 'cat6_ord', 'cat102_ord', 'cat104_ord', 'cat7_ord', 'cat52_ord', 'cat11_ord', 'cat56_ord', 'cat89_ord', 'cat101_ord', 'cat22_ord', 'cat37_ord', 'cat71_ord', 'cat41_ord', 'cat74_ord', 'cat57_ord', 'cat1_ord', 'cat54_ord', 'cat42_ord', 'cat82_ord', 'cat73_ord', 'cat108_ord', 'cat83_ord', 'cat109_ord', 'cat13_ord', 'cat63_ord', 'cat21_ord', 'cat2_ord', 'cat18_ord', 'cat93_ord', 'cat9_ord', 'cat25_ord', 'cat66_ord', 'cat60_ord', 'cat43_ord', 'cat50_ord', 'cat105_ord', 'cat3_ord', 'cat78_ord', 'cat110_ord', 'cat90_ord', 'cat53_ord', 'cat69_ord', 'cat23_ord', 'cat4_ord', 'cat99_ord', 'cat79_ord', 'cat58_ord', 'cat114_ord', 'cat112_ord', 'cat70_ord', 'cat67_ord', 'cat40_ord', 'cat30_ord', 'cat36_ord', 'cat12_ord', 'cat75_ord', 'cat88_ord', 'cat92_ord', 'cat95_ord', 'cat85_ord', 'cat64_ord', 'cat47_ord', 'cat26_ord', 'cat32_ord', 'cat35_ord', 'cat46_ord', 'cat111_ord', 'cat61_ord', 'cat81_ord', 'cat44_ord', 'cat97_ord', 'cat94_ord', 'cat29_ord', 'cat55_ord', 'cat49_ord', 'cat20_ord', 'cat84_ord', 'cat8_ord', 'cat91_ord'] 20901.268631374005\n",
      "['cont1', 'cont2', 'cont3', 'cont4', 'cont5', 'cont6', 'cont7', 'cont8', 'cont9', 'cont10', 'cont14', 'cat5_ord', 'cat59_ord', 'cat87_ord', 'cat28_ord', 'cat45_ord', 'cat76_ord', 'cat39_ord', 'cat6_ord', 'cat102_ord', 'cat104_ord', 'cat7_ord', 'cat52_ord', 'cat11_ord', 'cat56_ord', 'cat89_ord', 'cat101_ord', 'cat22_ord', 'cat37_ord', 'cat71_ord', 'cat41_ord', 'cat74_ord', 'cat57_ord', 'cat1_ord', 'cat54_ord', 'cat42_ord', 'cat82_ord', 'cat73_ord', 'cat108_ord', 'cat83_ord', 'cat109_ord', 'cat13_ord', 'cat63_ord', 'cat21_ord', 'cat2_ord', 'cat18_ord', 'cat93_ord', 'cat9_ord', 'cat25_ord', 'cat66_ord', 'cat60_ord', 'cat43_ord', 'cat50_ord', 'cat105_ord', 'cat3_ord', 'cat78_ord', 'cat110_ord', 'cat90_ord', 'cat53_ord', 'cat69_ord', 'cat23_ord', 'cat4_ord', 'cat99_ord', 'cat79_ord', 'cat58_ord', 'cat114_ord', 'cat112_ord', 'cat70_ord', 'cat67_ord', 'cat40_ord', 'cat30_ord', 'cat36_ord', 'cat12_ord', 'cat75_ord', 'cat88_ord', 'cat92_ord', 'cat95_ord', 'cat85_ord', 'cat64_ord', 'cat47_ord', 'cat26_ord', 'cat32_ord', 'cat35_ord', 'cat46_ord', 'cat111_ord', 'cat61_ord', 'cat81_ord', 'cat44_ord', 'cat97_ord', 'cat94_ord', 'cat29_ord', 'cat55_ord', 'cat49_ord', 'cat20_ord', 'cat84_ord', 'cat8_ord', 'cat91_ord', 'cat98_ord'] 19254.362668003425\n"
     ]
    },
    {
     "name": "stdout",
     "output_type": "stream",
     "text": [
      "['cont1', 'cont2', 'cont3', 'cont4', 'cont5', 'cont6', 'cont7', 'cont8', 'cont9', 'cont10', 'cont14', 'cat5_ord', 'cat59_ord', 'cat87_ord', 'cat28_ord', 'cat45_ord', 'cat76_ord', 'cat39_ord', 'cat6_ord', 'cat102_ord', 'cat104_ord', 'cat7_ord', 'cat52_ord', 'cat11_ord', 'cat56_ord', 'cat89_ord', 'cat101_ord', 'cat22_ord', 'cat37_ord', 'cat71_ord', 'cat41_ord', 'cat74_ord', 'cat57_ord', 'cat1_ord', 'cat54_ord', 'cat42_ord', 'cat82_ord', 'cat73_ord', 'cat108_ord', 'cat83_ord', 'cat109_ord', 'cat13_ord', 'cat63_ord', 'cat21_ord', 'cat2_ord', 'cat18_ord', 'cat93_ord', 'cat9_ord', 'cat25_ord', 'cat66_ord', 'cat60_ord', 'cat43_ord', 'cat50_ord', 'cat105_ord', 'cat3_ord', 'cat78_ord', 'cat110_ord', 'cat90_ord', 'cat53_ord', 'cat69_ord', 'cat23_ord', 'cat4_ord', 'cat99_ord', 'cat79_ord', 'cat58_ord', 'cat114_ord', 'cat112_ord', 'cat70_ord', 'cat67_ord', 'cat40_ord', 'cat30_ord', 'cat36_ord', 'cat12_ord', 'cat75_ord', 'cat88_ord', 'cat92_ord', 'cat95_ord', 'cat85_ord', 'cat64_ord', 'cat47_ord', 'cat26_ord', 'cat32_ord', 'cat35_ord', 'cat46_ord', 'cat111_ord', 'cat61_ord', 'cat81_ord', 'cat44_ord', 'cat97_ord', 'cat94_ord', 'cat29_ord', 'cat55_ord', 'cat49_ord', 'cat20_ord', 'cat84_ord', 'cat8_ord', 'cat91_ord', 'cat98_ord', 'cat62_ord'] 18717.870914998464\n",
      "['cont1', 'cont2', 'cont3', 'cont4', 'cont5', 'cont6', 'cont7', 'cont8', 'cont9', 'cont10', 'cont14', 'cat5_ord', 'cat59_ord', 'cat87_ord', 'cat28_ord', 'cat45_ord', 'cat76_ord', 'cat39_ord', 'cat6_ord', 'cat102_ord', 'cat104_ord', 'cat7_ord', 'cat52_ord', 'cat11_ord', 'cat56_ord', 'cat89_ord', 'cat101_ord', 'cat22_ord', 'cat37_ord', 'cat71_ord', 'cat41_ord', 'cat74_ord', 'cat57_ord', 'cat1_ord', 'cat54_ord', 'cat42_ord', 'cat82_ord', 'cat73_ord', 'cat108_ord', 'cat83_ord', 'cat109_ord', 'cat13_ord', 'cat63_ord', 'cat21_ord', 'cat2_ord', 'cat18_ord', 'cat93_ord', 'cat9_ord', 'cat25_ord', 'cat66_ord', 'cat60_ord', 'cat43_ord', 'cat50_ord', 'cat105_ord', 'cat3_ord', 'cat78_ord', 'cat110_ord', 'cat90_ord', 'cat53_ord', 'cat69_ord', 'cat23_ord', 'cat4_ord', 'cat99_ord', 'cat79_ord', 'cat58_ord', 'cat114_ord', 'cat112_ord', 'cat70_ord', 'cat67_ord', 'cat40_ord', 'cat30_ord', 'cat36_ord', 'cat12_ord', 'cat75_ord', 'cat88_ord', 'cat92_ord', 'cat95_ord', 'cat85_ord', 'cat64_ord', 'cat47_ord', 'cat26_ord', 'cat32_ord', 'cat35_ord', 'cat46_ord', 'cat111_ord', 'cat61_ord', 'cat81_ord', 'cat44_ord', 'cat97_ord', 'cat94_ord', 'cat29_ord', 'cat55_ord', 'cat49_ord', 'cat20_ord', 'cat84_ord', 'cat8_ord', 'cat91_ord', 'cat98_ord', 'cat62_ord', 'cat48_ord'] 18795.17671924283\n",
      "['cont1', 'cont2', 'cont3', 'cont4', 'cont5', 'cont6', 'cont7', 'cont8', 'cont9', 'cont10', 'cont14', 'cat5_ord', 'cat59_ord', 'cat87_ord', 'cat28_ord', 'cat45_ord', 'cat76_ord', 'cat39_ord', 'cat6_ord', 'cat102_ord', 'cat104_ord', 'cat7_ord', 'cat52_ord', 'cat11_ord', 'cat56_ord', 'cat89_ord', 'cat101_ord', 'cat22_ord', 'cat37_ord', 'cat71_ord', 'cat41_ord', 'cat74_ord', 'cat57_ord', 'cat1_ord', 'cat54_ord', 'cat42_ord', 'cat82_ord', 'cat73_ord', 'cat108_ord', 'cat83_ord', 'cat109_ord', 'cat13_ord', 'cat63_ord', 'cat21_ord', 'cat2_ord', 'cat18_ord', 'cat93_ord', 'cat9_ord', 'cat25_ord', 'cat66_ord', 'cat60_ord', 'cat43_ord', 'cat50_ord', 'cat105_ord', 'cat3_ord', 'cat78_ord', 'cat110_ord', 'cat90_ord', 'cat53_ord', 'cat69_ord', 'cat23_ord', 'cat4_ord', 'cat99_ord', 'cat79_ord', 'cat58_ord', 'cat114_ord', 'cat112_ord', 'cat70_ord', 'cat67_ord', 'cat40_ord', 'cat30_ord', 'cat36_ord', 'cat12_ord', 'cat75_ord', 'cat88_ord', 'cat92_ord', 'cat95_ord', 'cat85_ord', 'cat64_ord', 'cat47_ord', 'cat26_ord', 'cat32_ord', 'cat35_ord', 'cat46_ord', 'cat111_ord', 'cat61_ord', 'cat81_ord', 'cat44_ord', 'cat97_ord', 'cat94_ord', 'cat29_ord', 'cat55_ord', 'cat49_ord', 'cat20_ord', 'cat84_ord', 'cat8_ord', 'cat91_ord', 'cat98_ord', 'cat62_ord', 'cat48_ord', 'cat33_ord'] 20546.783512054648\n",
      "['cont1', 'cont2', 'cont3', 'cont4', 'cont5', 'cont6', 'cont7', 'cont8', 'cont9', 'cont10', 'cont14', 'cat5_ord', 'cat59_ord', 'cat87_ord', 'cat28_ord', 'cat45_ord', 'cat76_ord', 'cat39_ord', 'cat6_ord', 'cat102_ord', 'cat104_ord', 'cat7_ord', 'cat52_ord', 'cat11_ord', 'cat56_ord', 'cat89_ord', 'cat101_ord', 'cat22_ord', 'cat37_ord', 'cat71_ord', 'cat41_ord', 'cat74_ord', 'cat57_ord', 'cat1_ord', 'cat54_ord', 'cat42_ord', 'cat82_ord', 'cat73_ord', 'cat108_ord', 'cat83_ord', 'cat109_ord', 'cat13_ord', 'cat63_ord', 'cat21_ord', 'cat2_ord', 'cat18_ord', 'cat93_ord', 'cat9_ord', 'cat25_ord', 'cat66_ord', 'cat60_ord', 'cat43_ord', 'cat50_ord', 'cat105_ord', 'cat3_ord', 'cat78_ord', 'cat110_ord', 'cat90_ord', 'cat53_ord', 'cat69_ord', 'cat23_ord', 'cat4_ord', 'cat99_ord', 'cat79_ord', 'cat58_ord', 'cat114_ord', 'cat112_ord', 'cat70_ord', 'cat67_ord', 'cat40_ord', 'cat30_ord', 'cat36_ord', 'cat12_ord', 'cat75_ord', 'cat88_ord', 'cat92_ord', 'cat95_ord', 'cat85_ord', 'cat64_ord', 'cat47_ord', 'cat26_ord', 'cat32_ord', 'cat35_ord', 'cat46_ord', 'cat111_ord', 'cat61_ord', 'cat81_ord', 'cat44_ord', 'cat97_ord', 'cat94_ord', 'cat29_ord', 'cat55_ord', 'cat49_ord', 'cat20_ord', 'cat84_ord', 'cat8_ord', 'cat91_ord', 'cat98_ord', 'cat62_ord', 'cat48_ord', 'cat33_ord', 'cat96_ord'] 3575.047206232364\n",
      "['cont1', 'cont2', 'cont3', 'cont4', 'cont5', 'cont6', 'cont7', 'cont8', 'cont9', 'cont10', 'cont14', 'cat5_ord', 'cat59_ord', 'cat87_ord', 'cat28_ord', 'cat45_ord', 'cat76_ord', 'cat39_ord', 'cat6_ord', 'cat102_ord', 'cat104_ord', 'cat7_ord', 'cat52_ord', 'cat11_ord', 'cat56_ord', 'cat89_ord', 'cat101_ord', 'cat22_ord', 'cat37_ord', 'cat71_ord', 'cat41_ord', 'cat74_ord', 'cat57_ord', 'cat1_ord', 'cat54_ord', 'cat42_ord', 'cat82_ord', 'cat73_ord', 'cat108_ord', 'cat83_ord', 'cat109_ord', 'cat13_ord', 'cat63_ord', 'cat21_ord', 'cat2_ord', 'cat18_ord', 'cat93_ord', 'cat9_ord', 'cat25_ord', 'cat66_ord', 'cat60_ord', 'cat43_ord', 'cat50_ord', 'cat105_ord', 'cat3_ord', 'cat78_ord', 'cat110_ord', 'cat90_ord', 'cat53_ord', 'cat69_ord', 'cat23_ord', 'cat4_ord', 'cat99_ord', 'cat79_ord', 'cat58_ord', 'cat114_ord', 'cat112_ord', 'cat70_ord', 'cat67_ord', 'cat40_ord', 'cat30_ord', 'cat36_ord', 'cat12_ord', 'cat75_ord', 'cat88_ord', 'cat92_ord', 'cat95_ord', 'cat85_ord', 'cat64_ord', 'cat47_ord', 'cat26_ord', 'cat32_ord', 'cat35_ord', 'cat46_ord', 'cat111_ord', 'cat61_ord', 'cat81_ord', 'cat44_ord', 'cat97_ord', 'cat94_ord', 'cat29_ord', 'cat55_ord', 'cat49_ord', 'cat20_ord', 'cat84_ord', 'cat8_ord', 'cat91_ord', 'cat98_ord', 'cat62_ord', 'cat48_ord', 'cat33_ord', 'cat96_ord', 'cat86_ord'] 2626.1155158188044\n",
      "['cont1', 'cont2', 'cont3', 'cont4', 'cont5', 'cont6', 'cont7', 'cont8', 'cont9', 'cont10', 'cont14', 'cat5_ord', 'cat59_ord', 'cat87_ord', 'cat28_ord', 'cat45_ord', 'cat76_ord', 'cat39_ord', 'cat6_ord', 'cat102_ord', 'cat104_ord', 'cat7_ord', 'cat52_ord', 'cat11_ord', 'cat56_ord', 'cat89_ord', 'cat101_ord', 'cat22_ord', 'cat37_ord', 'cat71_ord', 'cat41_ord', 'cat74_ord', 'cat57_ord', 'cat1_ord', 'cat54_ord', 'cat42_ord', 'cat82_ord', 'cat73_ord', 'cat108_ord', 'cat83_ord', 'cat109_ord', 'cat13_ord', 'cat63_ord', 'cat21_ord', 'cat2_ord', 'cat18_ord', 'cat93_ord', 'cat9_ord', 'cat25_ord', 'cat66_ord', 'cat60_ord', 'cat43_ord', 'cat50_ord', 'cat105_ord', 'cat3_ord', 'cat78_ord', 'cat110_ord', 'cat90_ord', 'cat53_ord', 'cat69_ord', 'cat23_ord', 'cat4_ord', 'cat99_ord', 'cat79_ord', 'cat58_ord', 'cat114_ord', 'cat112_ord', 'cat70_ord', 'cat67_ord', 'cat40_ord', 'cat30_ord', 'cat36_ord', 'cat12_ord', 'cat75_ord', 'cat88_ord', 'cat92_ord', 'cat95_ord', 'cat85_ord', 'cat64_ord', 'cat47_ord', 'cat26_ord', 'cat32_ord', 'cat35_ord', 'cat46_ord', 'cat111_ord', 'cat61_ord', 'cat81_ord', 'cat44_ord', 'cat97_ord', 'cat94_ord', 'cat29_ord', 'cat55_ord', 'cat49_ord', 'cat20_ord', 'cat84_ord', 'cat8_ord', 'cat91_ord', 'cat98_ord', 'cat62_ord', 'cat48_ord', 'cat33_ord', 'cat96_ord', 'cat86_ord', 'cat16_ord'] 2615.207775411957\n",
      "['cont1', 'cont2', 'cont3', 'cont4', 'cont5', 'cont6', 'cont7', 'cont8', 'cont9', 'cont10', 'cont14', 'cat5_ord', 'cat59_ord', 'cat87_ord', 'cat28_ord', 'cat45_ord', 'cat76_ord', 'cat39_ord', 'cat6_ord', 'cat102_ord', 'cat104_ord', 'cat7_ord', 'cat52_ord', 'cat11_ord', 'cat56_ord', 'cat89_ord', 'cat101_ord', 'cat22_ord', 'cat37_ord', 'cat71_ord', 'cat41_ord', 'cat74_ord', 'cat57_ord', 'cat1_ord', 'cat54_ord', 'cat42_ord', 'cat82_ord', 'cat73_ord', 'cat108_ord', 'cat83_ord', 'cat109_ord', 'cat13_ord', 'cat63_ord', 'cat21_ord', 'cat2_ord', 'cat18_ord', 'cat93_ord', 'cat9_ord', 'cat25_ord', 'cat66_ord', 'cat60_ord', 'cat43_ord', 'cat50_ord', 'cat105_ord', 'cat3_ord', 'cat78_ord', 'cat110_ord', 'cat90_ord', 'cat53_ord', 'cat69_ord', 'cat23_ord', 'cat4_ord', 'cat99_ord', 'cat79_ord', 'cat58_ord', 'cat114_ord', 'cat112_ord', 'cat70_ord', 'cat67_ord', 'cat40_ord', 'cat30_ord', 'cat36_ord', 'cat12_ord', 'cat75_ord', 'cat88_ord', 'cat92_ord', 'cat95_ord', 'cat85_ord', 'cat64_ord', 'cat47_ord', 'cat26_ord', 'cat32_ord', 'cat35_ord', 'cat46_ord', 'cat111_ord', 'cat61_ord', 'cat81_ord', 'cat44_ord', 'cat97_ord', 'cat94_ord', 'cat29_ord', 'cat55_ord', 'cat49_ord', 'cat20_ord', 'cat84_ord', 'cat8_ord', 'cat91_ord', 'cat98_ord', 'cat62_ord', 'cat48_ord', 'cat33_ord', 'cat96_ord', 'cat86_ord', 'cat16_ord', 'cat100_ord'] 2497.7050453922593\n"
     ]
    },
    {
     "name": "stdout",
     "output_type": "stream",
     "text": [
      "['cont1', 'cont2', 'cont3', 'cont4', 'cont5', 'cont6', 'cont7', 'cont8', 'cont9', 'cont10', 'cont14', 'cat5_ord', 'cat59_ord', 'cat87_ord', 'cat28_ord', 'cat45_ord', 'cat76_ord', 'cat39_ord', 'cat6_ord', 'cat102_ord', 'cat104_ord', 'cat7_ord', 'cat52_ord', 'cat11_ord', 'cat56_ord', 'cat89_ord', 'cat101_ord', 'cat22_ord', 'cat37_ord', 'cat71_ord', 'cat41_ord', 'cat74_ord', 'cat57_ord', 'cat1_ord', 'cat54_ord', 'cat42_ord', 'cat82_ord', 'cat73_ord', 'cat108_ord', 'cat83_ord', 'cat109_ord', 'cat13_ord', 'cat63_ord', 'cat21_ord', 'cat2_ord', 'cat18_ord', 'cat93_ord', 'cat9_ord', 'cat25_ord', 'cat66_ord', 'cat60_ord', 'cat43_ord', 'cat50_ord', 'cat105_ord', 'cat3_ord', 'cat78_ord', 'cat110_ord', 'cat90_ord', 'cat53_ord', 'cat69_ord', 'cat23_ord', 'cat4_ord', 'cat99_ord', 'cat79_ord', 'cat58_ord', 'cat114_ord', 'cat112_ord', 'cat70_ord', 'cat67_ord', 'cat40_ord', 'cat30_ord', 'cat36_ord', 'cat12_ord', 'cat75_ord', 'cat88_ord', 'cat92_ord', 'cat95_ord', 'cat85_ord', 'cat64_ord', 'cat47_ord', 'cat26_ord', 'cat32_ord', 'cat35_ord', 'cat46_ord', 'cat111_ord', 'cat61_ord', 'cat81_ord', 'cat44_ord', 'cat97_ord', 'cat94_ord', 'cat29_ord', 'cat55_ord', 'cat49_ord', 'cat20_ord', 'cat84_ord', 'cat8_ord', 'cat91_ord', 'cat98_ord', 'cat62_ord', 'cat48_ord', 'cat33_ord', 'cat96_ord', 'cat86_ord', 'cat16_ord', 'cat100_ord', 'cat19_ord'] 2497.870505668381\n",
      "['cont1', 'cont2', 'cont3', 'cont4', 'cont5', 'cont6', 'cont7', 'cont8', 'cont9', 'cont10', 'cont14', 'cat5_ord', 'cat59_ord', 'cat87_ord', 'cat28_ord', 'cat45_ord', 'cat76_ord', 'cat39_ord', 'cat6_ord', 'cat102_ord', 'cat104_ord', 'cat7_ord', 'cat52_ord', 'cat11_ord', 'cat56_ord', 'cat89_ord', 'cat101_ord', 'cat22_ord', 'cat37_ord', 'cat71_ord', 'cat41_ord', 'cat74_ord', 'cat57_ord', 'cat1_ord', 'cat54_ord', 'cat42_ord', 'cat82_ord', 'cat73_ord', 'cat108_ord', 'cat83_ord', 'cat109_ord', 'cat13_ord', 'cat63_ord', 'cat21_ord', 'cat2_ord', 'cat18_ord', 'cat93_ord', 'cat9_ord', 'cat25_ord', 'cat66_ord', 'cat60_ord', 'cat43_ord', 'cat50_ord', 'cat105_ord', 'cat3_ord', 'cat78_ord', 'cat110_ord', 'cat90_ord', 'cat53_ord', 'cat69_ord', 'cat23_ord', 'cat4_ord', 'cat99_ord', 'cat79_ord', 'cat58_ord', 'cat114_ord', 'cat112_ord', 'cat70_ord', 'cat67_ord', 'cat40_ord', 'cat30_ord', 'cat36_ord', 'cat12_ord', 'cat75_ord', 'cat88_ord', 'cat92_ord', 'cat95_ord', 'cat85_ord', 'cat64_ord', 'cat47_ord', 'cat26_ord', 'cat32_ord', 'cat35_ord', 'cat46_ord', 'cat111_ord', 'cat61_ord', 'cat81_ord', 'cat44_ord', 'cat97_ord', 'cat94_ord', 'cat29_ord', 'cat55_ord', 'cat49_ord', 'cat20_ord', 'cat84_ord', 'cat8_ord', 'cat91_ord', 'cat98_ord', 'cat62_ord', 'cat48_ord', 'cat33_ord', 'cat96_ord', 'cat86_ord', 'cat16_ord', 'cat100_ord', 'cat19_ord', 'cat72_ord'] 2423.6613006360617\n",
      "['cont1', 'cont2', 'cont3', 'cont4', 'cont5', 'cont6', 'cont7', 'cont8', 'cont9', 'cont10', 'cont14', 'cat5_ord', 'cat59_ord', 'cat87_ord', 'cat28_ord', 'cat45_ord', 'cat76_ord', 'cat39_ord', 'cat6_ord', 'cat102_ord', 'cat104_ord', 'cat7_ord', 'cat52_ord', 'cat11_ord', 'cat56_ord', 'cat89_ord', 'cat101_ord', 'cat22_ord', 'cat37_ord', 'cat71_ord', 'cat41_ord', 'cat74_ord', 'cat57_ord', 'cat1_ord', 'cat54_ord', 'cat42_ord', 'cat82_ord', 'cat73_ord', 'cat108_ord', 'cat83_ord', 'cat109_ord', 'cat13_ord', 'cat63_ord', 'cat21_ord', 'cat2_ord', 'cat18_ord', 'cat93_ord', 'cat9_ord', 'cat25_ord', 'cat66_ord', 'cat60_ord', 'cat43_ord', 'cat50_ord', 'cat105_ord', 'cat3_ord', 'cat78_ord', 'cat110_ord', 'cat90_ord', 'cat53_ord', 'cat69_ord', 'cat23_ord', 'cat4_ord', 'cat99_ord', 'cat79_ord', 'cat58_ord', 'cat114_ord', 'cat112_ord', 'cat70_ord', 'cat67_ord', 'cat40_ord', 'cat30_ord', 'cat36_ord', 'cat12_ord', 'cat75_ord', 'cat88_ord', 'cat92_ord', 'cat95_ord', 'cat85_ord', 'cat64_ord', 'cat47_ord', 'cat26_ord', 'cat32_ord', 'cat35_ord', 'cat46_ord', 'cat111_ord', 'cat61_ord', 'cat81_ord', 'cat44_ord', 'cat97_ord', 'cat94_ord', 'cat29_ord', 'cat55_ord', 'cat49_ord', 'cat20_ord', 'cat84_ord', 'cat8_ord', 'cat91_ord', 'cat98_ord', 'cat62_ord', 'cat48_ord', 'cat33_ord', 'cat96_ord', 'cat86_ord', 'cat16_ord', 'cat100_ord', 'cat19_ord', 'cat72_ord', 'cat103_ord'] 2344.7167578426215\n",
      "['cont1', 'cont2', 'cont3', 'cont4', 'cont5', 'cont6', 'cont7', 'cont8', 'cont9', 'cont10', 'cont14', 'cat5_ord', 'cat59_ord', 'cat87_ord', 'cat28_ord', 'cat45_ord', 'cat76_ord', 'cat39_ord', 'cat6_ord', 'cat102_ord', 'cat104_ord', 'cat7_ord', 'cat52_ord', 'cat11_ord', 'cat56_ord', 'cat89_ord', 'cat101_ord', 'cat22_ord', 'cat37_ord', 'cat71_ord', 'cat41_ord', 'cat74_ord', 'cat57_ord', 'cat1_ord', 'cat54_ord', 'cat42_ord', 'cat82_ord', 'cat73_ord', 'cat108_ord', 'cat83_ord', 'cat109_ord', 'cat13_ord', 'cat63_ord', 'cat21_ord', 'cat2_ord', 'cat18_ord', 'cat93_ord', 'cat9_ord', 'cat25_ord', 'cat66_ord', 'cat60_ord', 'cat43_ord', 'cat50_ord', 'cat105_ord', 'cat3_ord', 'cat78_ord', 'cat110_ord', 'cat90_ord', 'cat53_ord', 'cat69_ord', 'cat23_ord', 'cat4_ord', 'cat99_ord', 'cat79_ord', 'cat58_ord', 'cat114_ord', 'cat112_ord', 'cat70_ord', 'cat67_ord', 'cat40_ord', 'cat30_ord', 'cat36_ord', 'cat12_ord', 'cat75_ord', 'cat88_ord', 'cat92_ord', 'cat95_ord', 'cat85_ord', 'cat64_ord', 'cat47_ord', 'cat26_ord', 'cat32_ord', 'cat35_ord', 'cat46_ord', 'cat111_ord', 'cat61_ord', 'cat81_ord', 'cat44_ord', 'cat97_ord', 'cat94_ord', 'cat29_ord', 'cat55_ord', 'cat49_ord', 'cat20_ord', 'cat84_ord', 'cat8_ord', 'cat91_ord', 'cat98_ord', 'cat62_ord', 'cat48_ord', 'cat33_ord', 'cat96_ord', 'cat86_ord', 'cat16_ord', 'cat100_ord', 'cat19_ord', 'cat72_ord', 'cat103_ord', 'cat113_ord'] 2345.1401095041474\n",
      "['cont1', 'cont2', 'cont3', 'cont4', 'cont5', 'cont6', 'cont7', 'cont8', 'cont9', 'cont10', 'cont14', 'cat5_ord', 'cat59_ord', 'cat87_ord', 'cat28_ord', 'cat45_ord', 'cat76_ord', 'cat39_ord', 'cat6_ord', 'cat102_ord', 'cat104_ord', 'cat7_ord', 'cat52_ord', 'cat11_ord', 'cat56_ord', 'cat89_ord', 'cat101_ord', 'cat22_ord', 'cat37_ord', 'cat71_ord', 'cat41_ord', 'cat74_ord', 'cat57_ord', 'cat1_ord', 'cat54_ord', 'cat42_ord', 'cat82_ord', 'cat73_ord', 'cat108_ord', 'cat83_ord', 'cat109_ord', 'cat13_ord', 'cat63_ord', 'cat21_ord', 'cat2_ord', 'cat18_ord', 'cat93_ord', 'cat9_ord', 'cat25_ord', 'cat66_ord', 'cat60_ord', 'cat43_ord', 'cat50_ord', 'cat105_ord', 'cat3_ord', 'cat78_ord', 'cat110_ord', 'cat90_ord', 'cat53_ord', 'cat69_ord', 'cat23_ord', 'cat4_ord', 'cat99_ord', 'cat79_ord', 'cat58_ord', 'cat114_ord', 'cat112_ord', 'cat70_ord', 'cat67_ord', 'cat40_ord', 'cat30_ord', 'cat36_ord', 'cat12_ord', 'cat75_ord', 'cat88_ord', 'cat92_ord', 'cat95_ord', 'cat85_ord', 'cat64_ord', 'cat47_ord', 'cat26_ord', 'cat32_ord', 'cat35_ord', 'cat46_ord', 'cat111_ord', 'cat61_ord', 'cat81_ord', 'cat44_ord', 'cat97_ord', 'cat94_ord', 'cat29_ord', 'cat55_ord', 'cat49_ord', 'cat20_ord', 'cat84_ord', 'cat8_ord', 'cat91_ord', 'cat98_ord', 'cat62_ord', 'cat48_ord', 'cat33_ord', 'cat96_ord', 'cat86_ord', 'cat16_ord', 'cat100_ord', 'cat19_ord', 'cat72_ord', 'cat103_ord', 'cat113_ord', 'cat34_ord'] 2397.0043765251326\n",
      "['cont1', 'cont2', 'cont3', 'cont4', 'cont5', 'cont6', 'cont7', 'cont8', 'cont9', 'cont10', 'cont14', 'cat5_ord', 'cat59_ord', 'cat87_ord', 'cat28_ord', 'cat45_ord', 'cat76_ord', 'cat39_ord', 'cat6_ord', 'cat102_ord', 'cat104_ord', 'cat7_ord', 'cat52_ord', 'cat11_ord', 'cat56_ord', 'cat89_ord', 'cat101_ord', 'cat22_ord', 'cat37_ord', 'cat71_ord', 'cat41_ord', 'cat74_ord', 'cat57_ord', 'cat1_ord', 'cat54_ord', 'cat42_ord', 'cat82_ord', 'cat73_ord', 'cat108_ord', 'cat83_ord', 'cat109_ord', 'cat13_ord', 'cat63_ord', 'cat21_ord', 'cat2_ord', 'cat18_ord', 'cat93_ord', 'cat9_ord', 'cat25_ord', 'cat66_ord', 'cat60_ord', 'cat43_ord', 'cat50_ord', 'cat105_ord', 'cat3_ord', 'cat78_ord', 'cat110_ord', 'cat90_ord', 'cat53_ord', 'cat69_ord', 'cat23_ord', 'cat4_ord', 'cat99_ord', 'cat79_ord', 'cat58_ord', 'cat114_ord', 'cat112_ord', 'cat70_ord', 'cat67_ord', 'cat40_ord', 'cat30_ord', 'cat36_ord', 'cat12_ord', 'cat75_ord', 'cat88_ord', 'cat92_ord', 'cat95_ord', 'cat85_ord', 'cat64_ord', 'cat47_ord', 'cat26_ord', 'cat32_ord', 'cat35_ord', 'cat46_ord', 'cat111_ord', 'cat61_ord', 'cat81_ord', 'cat44_ord', 'cat97_ord', 'cat94_ord', 'cat29_ord', 'cat55_ord', 'cat49_ord', 'cat20_ord', 'cat84_ord', 'cat8_ord', 'cat91_ord', 'cat98_ord', 'cat62_ord', 'cat48_ord', 'cat33_ord', 'cat96_ord', 'cat86_ord', 'cat16_ord', 'cat100_ord', 'cat19_ord', 'cat72_ord', 'cat103_ord', 'cat113_ord', 'cat34_ord', 'cat17_ord'] 2406.9960581167534\n"
     ]
    },
    {
     "name": "stdout",
     "output_type": "stream",
     "text": [
      "['cont1', 'cont2', 'cont3', 'cont4', 'cont5', 'cont6', 'cont7', 'cont8', 'cont9', 'cont10', 'cont14', 'cat5_ord', 'cat59_ord', 'cat87_ord', 'cat28_ord', 'cat45_ord', 'cat76_ord', 'cat39_ord', 'cat6_ord', 'cat102_ord', 'cat104_ord', 'cat7_ord', 'cat52_ord', 'cat11_ord', 'cat56_ord', 'cat89_ord', 'cat101_ord', 'cat22_ord', 'cat37_ord', 'cat71_ord', 'cat41_ord', 'cat74_ord', 'cat57_ord', 'cat1_ord', 'cat54_ord', 'cat42_ord', 'cat82_ord', 'cat73_ord', 'cat108_ord', 'cat83_ord', 'cat109_ord', 'cat13_ord', 'cat63_ord', 'cat21_ord', 'cat2_ord', 'cat18_ord', 'cat93_ord', 'cat9_ord', 'cat25_ord', 'cat66_ord', 'cat60_ord', 'cat43_ord', 'cat50_ord', 'cat105_ord', 'cat3_ord', 'cat78_ord', 'cat110_ord', 'cat90_ord', 'cat53_ord', 'cat69_ord', 'cat23_ord', 'cat4_ord', 'cat99_ord', 'cat79_ord', 'cat58_ord', 'cat114_ord', 'cat112_ord', 'cat70_ord', 'cat67_ord', 'cat40_ord', 'cat30_ord', 'cat36_ord', 'cat12_ord', 'cat75_ord', 'cat88_ord', 'cat92_ord', 'cat95_ord', 'cat85_ord', 'cat64_ord', 'cat47_ord', 'cat26_ord', 'cat32_ord', 'cat35_ord', 'cat46_ord', 'cat111_ord', 'cat61_ord', 'cat81_ord', 'cat44_ord', 'cat97_ord', 'cat94_ord', 'cat29_ord', 'cat55_ord', 'cat49_ord', 'cat20_ord', 'cat84_ord', 'cat8_ord', 'cat91_ord', 'cat98_ord', 'cat62_ord', 'cat48_ord', 'cat33_ord', 'cat96_ord', 'cat86_ord', 'cat16_ord', 'cat100_ord', 'cat19_ord', 'cat72_ord', 'cat103_ord', 'cat113_ord', 'cat34_ord', 'cat17_ord', 'cat31_ord'] 2401.216320815745\n"
     ]
    }
   ],
   "source": [
    "# this runs but seems to time out\n",
    "\n",
    "# # iterate through models to get best fitting on valid\n",
    "\n",
    "# predictors=[]\n",
    "# mae=[]\n",
    "\n",
    "# for i in list(training_df.drop(['id', 'loss'], axis=1).columns):\n",
    "    \n",
    "#     predictors.append(i)\n",
    "#     X=training_df[predictors]\n",
    "#     y=training_df['loss']\n",
    "    \n",
    "#     try:\n",
    "#         glm_gamma = sm.GLM(endog=y, exog=X, family=sm.families.Gamma(sm.families.links.log()))\n",
    "#         glm_results = glm_gamma.fit()\n",
    "#         y_pred=glm_results.predict(validation_df[predictors])\n",
    "#         y_valid=validation_df['loss']\n",
    "#         result=mean_absolute_error(y_pred, y_valid)\n",
    "#         print(predictors, result)\n",
    "#         mae.append(result)\n",
    "        \n",
    "#     except ValueError:\n",
    "#         print(\"skipped\", i)\n",
    "#         predictors.remove(i)\n",
    "        \n",
    "# glm_performance=pd.DataFrame({'Predictors':predictors,'MAE':mae})\n",
    "# glm_performance.to_csv('glm_perf.csv', index=False)"
   ]
  },
  {
   "cell_type": "code",
   "execution_count": null,
   "metadata": {},
   "outputs": [],
   "source": [
    "print('hi')"
   ]
  },
  {
   "cell_type": "code",
   "execution_count": null,
   "metadata": {},
   "outputs": [],
   "source": [
    "# Choose a significance level (e.g. SL = 0.05 with a 95% confidence).\n",
    "# Fit all possible simple regression models by considering one feature at a time. Total ’n’ models are possible. Select the feature with the lowest p-value.\n",
    "# Fit all possible models with one extra feature added to the previously selected feature(s).\n",
    "# Again, select the feature with a minimum p-value. if p_value < significance level then go to Step 3, otherwise terminate the process.\n",
    "\n",
    "def pvalue_loop(df, y, full_cols, previous_loops):\n",
    "\n",
    "    predictors=[]\n",
    "    p_value=[]\n",
    "\n",
    "    for predictor in full_cols:\n",
    "        \n",
    "        previous_loops.append(predictor)\n",
    "        print(previous_loops)\n",
    "        glm_gamma = sm.GLM(endog=df[y], exog=df[predictor], family=sm.families.Gamma(sm.families.links.log()))\n",
    "        glm_results = glm_gamma.fit()\n",
    "        predictors.append(i)\n",
    "        p_value.append(min(glm_results.pvalues))\n",
    "        previous_loops.remove(predictor)\n",
    "\n",
    "    best_col=pd.DataFrame({'Predictors':predictors,'pvalue':p_value}).sort_values(by='pvalue')[:1].values[0][0]\n",
    "    best_p=pd.DataFrame({'Predictors':predictors,'pvalue':p_value}).sort_values(by='pvalue')[:1].values[0][1]\n",
    "    return best_col, best_p"
   ]
  },
  {
   "cell_type": "code",
   "execution_count": null,
   "metadata": {},
   "outputs": [],
   "source": [
    "df=training_df\n",
    "y='loss'\n",
    "full_cols=['cont1', 'cont2', 'cont3']\n",
    "previous_loops=[]\n",
    "\n",
    "loop_cols = list(set(full_cols) - set(predictors_loop))\n",
    "\n",
    "previous_loops.append(pvalue_loop(df, y, full_cols, previous_loops)[0])\n",
    "\n",
    "pvalue_loop(df, y, loop_cols, previous_loops)[0]"
   ]
  },
  {
   "cell_type": "code",
   "execution_count": null,
   "metadata": {},
   "outputs": [],
   "source": [
    "# loop_cols=['cont1', 'cont2', 'cont3']\n",
    "# # full_cols=(df.drop(['id', 'loss'], axis=1).columns)\n",
    "# X = training_df[cols]"
   ]
  },
  {
   "cell_type": "code",
   "execution_count": null,
   "metadata": {},
   "outputs": [],
   "source": [
    "# predictors_loop=[]\n",
    "# predictors_loop.append(pvalue_loop(training_df, 'loss', full_cols)[0])\n",
    "# print(predictors_loop)\n",
    "\n",
    "# loop_cols = list(set(full_cols) - set(predictors_loop))\n",
    "# print(loop_cols)\n",
    "\n",
    "# for i in loop_cols:\n",
    "#     pvalue_loop(training_df, 'loss', loop_cols)\n",
    "    \n",
    "    \n",
    "# print(predictors_loop)"
   ]
  },
  {
   "cell_type": "code",
   "execution_count": null,
   "metadata": {},
   "outputs": [],
   "source": []
  },
  {
   "cell_type": "code",
   "execution_count": null,
   "metadata": {},
   "outputs": [],
   "source": []
  },
  {
   "cell_type": "code",
   "execution_count": null,
   "metadata": {},
   "outputs": [],
   "source": []
  },
  {
   "cell_type": "code",
   "execution_count": null,
   "metadata": {},
   "outputs": [],
   "source": []
  },
  {
   "cell_type": "code",
   "execution_count": null,
   "metadata": {},
   "outputs": [],
   "source": [
    "\n",
    "X=training_df[cols]\n",
    "y=training_df['loss']\n",
    "\n",
    "glm_gamma = sm.GLM(endog=y, exog=X, family=sm.families.Gamma(sm.families.links.log()))\n",
    "glm_results = glm_gamma.fit()\n",
    "glm_results.pvalues\n",
    "\n",
    "# y_pred=glm_results.predict(validation_df[predictors])\n",
    "# y_valid=validation_df['loss']\n",
    "# result=mean_absolute_error(y_pred, y_valid)\n",
    "# print(result)"
   ]
  },
  {
   "cell_type": "code",
   "execution_count": null,
   "metadata": {},
   "outputs": [],
   "source": [
    "def forward_selected(data, response):\n",
    "    \"\"\"Linear model designed by forward selection.\n",
    "\n",
    "    Parameters:\n",
    "    -----------\n",
    "    data : pandas DataFrame with all possible predictors and response\n",
    "\n",
    "    response: string, name of response column in data\n",
    "\n",
    "    Returns:\n",
    "    --------\n",
    "    model: an \"optimal\" fitted statsmodels linear model\n",
    "           with an intercept\n",
    "           selected by forward selection\n",
    "           evaluated by adjusted R-squared\n",
    "    \"\"\"\n",
    "    data=data.drop(['id'], axis=1)\n",
    "    remaining = set(data.columns)\n",
    "    remaining.remove(response)\n",
    "    selected = []\n",
    "    current_score, best_new_score = 0.0, 0.0\n",
    "    while remaining and current_score == best_new_score:\n",
    "        scores_with_candidates = []\n",
    "        for candidate in remaining:\n",
    "            print(candidate)\n",
    "#             formula = \"{} ~ {} + 1\".format(response,\n",
    "#                                            ' + '.join(selected + [candidate]))\n",
    "            score = sm.GLM(endog=response, exog=X).fit().deviance\n",
    "            scores_with_candidates.append((score, candidate))\n",
    "        scores_with_candidates.sort()\n",
    "        best_new_score, best_candidate = scores_with_candidates.pop()\n",
    "        if current_score < best_new_score:\n",
    "            remaining.remove(best_candidate)\n",
    "            selected.append(best_candidate)\n",
    "            current_score = best_new_score\n",
    "    formula = \"{} ~ {} + 1\".format(response,\n",
    "                                   ' + '.join(selected))\n",
    "    model = sm.GLM(endog=response, exog=X).fit()\n",
    "    return model"
   ]
  },
  {
   "cell_type": "code",
   "execution_count": null,
   "metadata": {},
   "outputs": [],
   "source": [
    "forward_selected(training_df, 'loss')"
   ]
  },
  {
   "cell_type": "code",
   "execution_count": null,
   "metadata": {},
   "outputs": [],
   "source": [
    "cols=['cont1', 'cont2', 'cont3']\n",
    "X=training_df.drop(['id'], axis=1)[cols]\n",
    "y=training_df['loss']\n",
    "formula = \"{} ~ {} + 1\".format(response, ' + '.join(cols)) #selected + [candidate]\n",
    "\n",
    "score\n",
    "\n",
    "#fmodel=forward_selected(X_train, 'loss')"
   ]
  },
  {
   "cell_type": "code",
   "execution_count": null,
   "metadata": {},
   "outputs": [],
   "source": []
  },
  {
   "cell_type": "code",
   "execution_count": null,
   "metadata": {},
   "outputs": [],
   "source": []
  },
  {
   "cell_type": "code",
   "execution_count": null,
   "metadata": {},
   "outputs": [],
   "source": [
    "X=training_df[cols]\n",
    "y=training_df['loss']\n",
    "\n",
    "glm_gamma = sm.GLM(endog=y, exog=X, weights = weights, family=sm.families.Gamma(sm.families.links.log()))\n",
    "glm_results = glm_gamma.fit()"
   ]
  },
  {
   "cell_type": "code",
   "execution_count": null,
   "metadata": {},
   "outputs": [],
   "source": [
    "# predict\n",
    "from sklearn.metrics import mean_absolute_error\n",
    "\n",
    "y_pred=glm_results.predict(validation_df[cols])\n",
    "y_valid=validation_df['loss']\n",
    "\n",
    "mean_absolute_error(y_pred, y_valid)"
   ]
  },
  {
   "cell_type": "code",
   "execution_count": null,
   "metadata": {},
   "outputs": [],
   "source": [
    "#thought process here:\n",
    "\n",
    "from itertools import compress, product\n",
    "\n",
    "def combinations(items):\n",
    "    return ( set(compress(items,mask)) for mask in product(*[[0,1]]*len(items)) )\n",
    "    # alternative:                      ...in product([0,1], repeat=len(items)) )\n",
    "\n",
    "len(list(combinations(range(122))))"
   ]
  },
  {
   "cell_type": "code",
   "execution_count": null,
   "metadata": {},
   "outputs": [],
   "source": [
    "print(glm_results.summary())"
   ]
  },
  {
   "cell_type": "code",
   "execution_count": null,
   "metadata": {},
   "outputs": [],
   "source": [
    "glm"
   ]
  },
  {
   "cell_type": "code",
   "execution_count": null,
   "metadata": {},
   "outputs": [],
   "source": [
    "print(glm_results.params)\n",
    "print(glm_results.scale)\n",
    "print(glm_results.deviance)\n",
    "print(glm_results.pearson_chi2)\n",
    "print(glm_results.llf)"
   ]
  },
  {
   "cell_type": "code",
   "execution_count": null,
   "metadata": {},
   "outputs": [],
   "source": [
    "glm_gamma.exog_names"
   ]
  },
  {
   "cell_type": "code",
   "execution_count": null,
   "metadata": {},
   "outputs": [],
   "source": []
  },
  {
   "cell_type": "code",
   "execution_count": null,
   "metadata": {},
   "outputs": [],
   "source": []
  }
 ],
 "metadata": {
  "kernelspec": {
   "display_name": "Python 3",
   "language": "python",
   "name": "python3"
  },
  "language_info": {
   "codemirror_mode": {
    "name": "ipython",
    "version": 3
   },
   "file_extension": ".py",
   "mimetype": "text/x-python",
   "name": "python",
   "nbconvert_exporter": "python",
   "pygments_lexer": "ipython3",
   "version": "3.7.0"
  }
 },
 "nbformat": 4,
 "nbformat_minor": 2
}
