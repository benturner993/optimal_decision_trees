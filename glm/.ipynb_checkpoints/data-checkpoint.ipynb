{
 "cells": [
  {
   "cell_type": "code",
   "execution_count": 1,
   "metadata": {},
   "outputs": [],
   "source": [
    "import pandas as pd\n",
    "import numpy as np\n",
    "import matplotlib.pyplot as plt\n",
    "import seaborn as sns\n",
    "import statsmodels.formula.api as smf\n",
    "%matplotlib inline\n",
    "from sklearn.model_selection import train_test_split\n",
    "from sklearn.preprocessing import LabelEncoder\n",
    "from sklearn.linear_model import Lasso\n",
    "from sklearn.feature_selection import SelectFromModel\n",
    "from sklearn.preprocessing import StandardScaler\n",
    "from sklearn.metrics import mean_absolute_error\n",
    "import statsmodels.api as sm\n",
    "import math\n",
    "from scipy import stats\n",
    "plt.rc(\"figure\", figsize=(16,8))\n",
    "plt.rc(\"font\", size=14)"
   ]
  },
  {
   "cell_type": "code",
   "execution_count": 2,
   "metadata": {},
   "outputs": [],
   "source": [
    "training_df=pd.read_csv('/Users/Ben/Desktop/optimal_decision_trees/data/train.csv')\n",
    "kaggle_df=pd.read_csv('/Users/Ben/Desktop/optimal_decision_trees/data/test.csv')"
   ]
  },
  {
   "cell_type": "code",
   "execution_count": 3,
   "metadata": {},
   "outputs": [],
   "source": [
    "def scoring_cols(df1, df2):\n",
    "    \n",
    "    ''' function to compare the levels in two dataframes and return the columns which align '''\n",
    "\n",
    "    # find categoric columns\n",
    "    all_columns = list(df2.columns)\n",
    "    numeric_types = ['int16', 'int32', 'int64', 'float16', 'float32', 'float64', 'uint8']\n",
    "    numeric_columns = df2.select_dtypes(include=numeric_types).columns.to_list()\n",
    "    categoric_columns = list(set(all_columns) - set(numeric_columns))\n",
    "\n",
    "    # create empty list for columns and indicators\n",
    "    cols=[]\n",
    "    cols_ind=[]\n",
    "\n",
    "    # loop through all categoric columns and create indicators\n",
    "    for i in categoric_columns:\n",
    "        df_t_unique=sorted(df1[i].unique())\n",
    "        df_te_unique=sorted(df2[i].unique())\n",
    "        cols.append(i)\n",
    "        cols_ind.append(df_t_unique==df_te_unique)\n",
    "\n",
    "    # filter for relevant columns\n",
    "    d = {'cols':cols,'cols_ind':cols_ind}\n",
    "    df = pd.DataFrame(d)\n",
    "    cat_cols=df.loc[df['cols_ind']==True]['cols']\n",
    "\n",
    "    # combine with numerics and add loss\n",
    "    modelling_cols = numeric_columns + sorted(list(cat_cols))\n",
    "    modelling_cols.append('loss')\n",
    "\n",
    "    return modelling_cols"
   ]
  },
  {
   "cell_type": "code",
   "execution_count": 4,
   "metadata": {},
   "outputs": [],
   "source": [
    "scoring_cols=scoring_cols(training_df, kaggle_df)\n",
    "training_df=training_df[scoring_cols]"
   ]
  },
  {
   "cell_type": "markdown",
   "metadata": {},
   "source": [
    "# Holdout dataset"
   ]
  },
  {
   "cell_type": "markdown",
   "metadata": {},
   "source": [
    "Create a dataset for internal testing purposes"
   ]
  },
  {
   "cell_type": "code",
   "execution_count": null,
   "metadata": {},
   "outputs": [],
   "source": [
    "train_df=training_df.loc[training_df.index<=160000]\n",
    "print(train_df.shape[0], round((train_df.shape[0]/training_df.shape[0])*100,2),': nrows/% for modelling')\n",
    "\n",
    "holdout_df=training_df.loc[training_df.index>160000]\n",
    "print(holdout_df.shape[0], round((holdout_df.shape[0]/training_df.shape[0])*100,2), ': nrows/% for holdout')\n",
    "\n",
    "holdout_df.to_csv('/Users/Ben/Desktop/optimal_decision_trees/data/holdout.csv', index=False)\n",
    "print('holdout dataset created...')"
   ]
  }
 ],
 "metadata": {
  "kernelspec": {
   "display_name": "Python 3",
   "language": "python",
   "name": "python3"
  },
  "language_info": {
   "codemirror_mode": {
    "name": "ipython",
    "version": 3
   },
   "file_extension": ".py",
   "mimetype": "text/x-python",
   "name": "python",
   "nbconvert_exporter": "python",
   "pygments_lexer": "ipython3",
   "version": "3.7.0"
  }
 },
 "nbformat": 4,
 "nbformat_minor": 2
}
