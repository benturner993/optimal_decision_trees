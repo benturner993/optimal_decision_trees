{
 "cells": [
  {
   "cell_type": "code",
   "execution_count": 1,
   "metadata": {},
   "outputs": [],
   "source": [
    "from concurrent.futures import ThreadPoolExecutor\n",
    "from time import strftime, gmtime\n",
    "\n",
    "from data import load_data\n",
    "from data_partitioning import training_validation_subset\n",
    "from data_transformation import response_outlier_capping, log_response, predictors_one_hot_encoding, \\\n",
    "    store_scaling_values, scale_numerics\n",
    "from modelling import bayes_cv_tuner, status_print, save_model\n",
    "from prediction import scores_and_fe, predict_test, predict_holdout"
   ]
  },
  {
   "cell_type": "code",
   "execution_count": 2,
   "metadata": {},
   "outputs": [],
   "source": [
    "# hardcoded settings\n",
    "current_time = strftime(\"%Y%m%d%H%M%S\", gmtime())"
   ]
  },
  {
   "cell_type": "code",
   "execution_count": 3,
   "metadata": {},
   "outputs": [
    {
     "name": "stdout",
     "output_type": "stream",
     "text": [
      "dataset loaded...\n"
     ]
    }
   ],
   "source": [
    "# load data\n",
    "training_df, holdout_df, test_df = load_data()\n",
    "print('dataset loaded...')"
   ]
  },
  {
   "cell_type": "code",
   "execution_count": 4,
   "metadata": {},
   "outputs": [
    {
     "name": "stdout",
     "output_type": "stream",
     "text": [
      "Training dataset rows:\t 112001\n",
      "Validation dataset rows:\t 48000\n",
      "dataset partitioned...\n"
     ]
    }
   ],
   "source": [
    "# data partitioning\n",
    "training_df, validation_df=training_validation_subset(training_df)\n",
    "print('dataset partitioned...')"
   ]
  },
  {
   "cell_type": "code",
   "execution_count": 5,
   "metadata": {},
   "outputs": [
    {
     "name": "stdout",
     "output_type": "stream",
     "text": [
      "Skewness of untransformed response:\t1.4027929940949755\n",
      "Skewness of transformed response:\t-0.04847135287071736\n",
      "dataset encoded...\n"
     ]
    }
   ],
   "source": [
    "# encode features\n",
    "training_df=predictors_one_hot_encoding(training_df)\n",
    "training_df=response_outlier_capping(training_df, 'loss', 2.2)\n",
    "training_df=log_response(training_df, 'loss')\n",
    "store_scaling_values(training_df)\n",
    "scale_numerics(training_df)\n",
    "print('dataset encoded...')"
   ]
  },
  {
   "cell_type": "code",
   "execution_count": 6,
   "metadata": {},
   "outputs": [
    {
     "name": "stdout",
     "output_type": "stream",
     "text": [
      "feature set selected...\n"
     ]
    }
   ],
   "source": [
    "# feature set\n",
    "X=training_df.drop(['id', 'loss'], axis=1)\n",
    "y=training_df['loss']\n",
    "print('feature set selected...')"
   ]
  },
  {
   "cell_type": "code",
   "execution_count": null,
   "metadata": {},
   "outputs": [],
   "source": [
    "# fit (and save) the model\n",
    "xgb_bo = bayes_cv_tuner.fit(X, y, callback=status_print)\n",
    "save_model(xgb_bo.best_estimator_,current_time)\n",
    "print('modelling complete...')"
   ]
  },
  {
   "cell_type": "code",
   "execution_count": null,
   "metadata": {},
   "outputs": [],
   "source": [
    "# scores and feature importance\n",
    "scores_and_fe(X, y, training_df, validation_df, xgb_bo.best_estimator_, current_time)\n",
    "print('modelling scores created...')"
   ]
  },
  {
   "cell_type": "code",
   "execution_count": null,
   "metadata": {},
   "outputs": [],
   "source": [
    "# predict on test and holdout dataset\n",
    "predict_test(training_df, test_df, xgb_bo.best_estimator_, current_time)\n",
    "predict_holdout(training_df, holdout_df, xgb_bo.best_estimator_, current_time)\n",
    "print('predictions complete...')"
   ]
  },
  {
   "cell_type": "code",
   "execution_count": null,
   "metadata": {},
   "outputs": [],
   "source": []
  }
 ],
 "metadata": {
  "kernelspec": {
   "display_name": "Python 3",
   "language": "python",
   "name": "python3"
  },
  "language_info": {
   "codemirror_mode": {
    "name": "ipython",
    "version": 3
   },
   "file_extension": ".py",
   "mimetype": "text/x-python",
   "name": "python",
   "nbconvert_exporter": "python",
   "pygments_lexer": "ipython3",
   "version": "3.7.0"
  }
 },
 "nbformat": 4,
 "nbformat_minor": 2
}
